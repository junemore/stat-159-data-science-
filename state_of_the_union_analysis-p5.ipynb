{
 "cells": [
  {
   "cell_type": "markdown",
   "metadata": {},
   "source": [
    "# An analysis of the State of the Union speeches - Part 5\n",
    "\n",
    "In this notebook, you should explore one question or idea of your own from this dataset.  Provide the code and computations here, and summarize your points in the [main](main.ipynb) notebook."
   ]
  },
  {
   "cell_type": "markdown",
   "metadata": {},
   "source": [
    "In p5, we want to explore Obama's speech style. Specifically, we will:\n",
    "1)explore the most common words he used\n",
    "2)does Obama talks about himself a lot\n",
    "3)whether Obama likes to use positive words"
   ]
  },
  {
   "cell_type": "code",
   "execution_count": 2,
   "metadata": {
    "collapsed": true
   },
   "outputs": [],
   "source": [
    "%matplotlib inline\n",
    "import matplotlib.pyplot as plt\n",
    "import numpy as np\n",
    "import pandas as pd\n",
    "import seaborn as sns"
   ]
  },
  {
   "cell_type": "code",
   "execution_count": 3,
   "metadata": {},
   "outputs": [
    {
     "data": {
      "text/html": [
       "<div>\n",
       "<style>\n",
       "    .dataframe thead tr:only-child th {\n",
       "        text-align: right;\n",
       "    }\n",
       "\n",
       "    .dataframe thead th {\n",
       "        text-align: left;\n",
       "    }\n",
       "\n",
       "    .dataframe tbody tr th {\n",
       "        vertical-align: top;\n",
       "    }\n",
       "</style>\n",
       "<table border=\"1\" class=\"dataframe\">\n",
       "  <thead>\n",
       "    <tr style=\"text-align: right;\">\n",
       "      <th></th>\n",
       "      <th>content</th>\n",
       "      <th>date</th>\n",
       "      <th>president</th>\n",
       "      <th>title</th>\n",
       "    </tr>\n",
       "  </thead>\n",
       "  <tbody>\n",
       "    <tr>\n",
       "      <th>218</th>\n",
       "      <td>\\n\\nAddress Before a Joint Session of Congress...</td>\n",
       "      <td>2009-02-24</td>\n",
       "      <td>Barack Obama</td>\n",
       "      <td>Address Before a Joint Session of Congress</td>\n",
       "    </tr>\n",
       "    <tr>\n",
       "      <th>219</th>\n",
       "      <td>\\n\\nState of the Union Address\\nBarack Obama\\n...</td>\n",
       "      <td>2010-01-27</td>\n",
       "      <td>Barack Obama</td>\n",
       "      <td>State of the Union Address</td>\n",
       "    </tr>\n",
       "    <tr>\n",
       "      <th>220</th>\n",
       "      <td>\\n\\nState of the Union Address\\nBarack Obama\\n...</td>\n",
       "      <td>2011-01-25</td>\n",
       "      <td>Barack Obama</td>\n",
       "      <td>State of the Union Address</td>\n",
       "    </tr>\n",
       "    <tr>\n",
       "      <th>221</th>\n",
       "      <td>\\n\\nState of the Union Address\\nBarack Obama\\n...</td>\n",
       "      <td>2012-01-24</td>\n",
       "      <td>Barack Obama</td>\n",
       "      <td>State of the Union Address</td>\n",
       "    </tr>\n",
       "    <tr>\n",
       "      <th>222</th>\n",
       "      <td>\\n\\nState of the Union Address\\nBarack Obama\\n...</td>\n",
       "      <td>2013-02-12</td>\n",
       "      <td>Barack Obama</td>\n",
       "      <td>State of the Union Address</td>\n",
       "    </tr>\n",
       "  </tbody>\n",
       "</table>\n",
       "</div>"
      ],
      "text/plain": [
       "                                               content       date  \\\n",
       "218  \\n\\nAddress Before a Joint Session of Congress... 2009-02-24   \n",
       "219  \\n\\nState of the Union Address\\nBarack Obama\\n... 2010-01-27   \n",
       "220  \\n\\nState of the Union Address\\nBarack Obama\\n... 2011-01-25   \n",
       "221  \\n\\nState of the Union Address\\nBarack Obama\\n... 2012-01-24   \n",
       "222  \\n\\nState of the Union Address\\nBarack Obama\\n... 2013-02-12   \n",
       "\n",
       "          president                                        title  \n",
       "218    Barack Obama   Address Before a Joint Session of Congress  \n",
       "219    Barack Obama                   State of the Union Address  \n",
       "220    Barack Obama                   State of the Union Address  \n",
       "221    Barack Obama                   State of the Union Address  \n",
       "222    Barack Obama                   State of the Union Address  "
      ]
     },
     "execution_count": 3,
     "metadata": {},
     "output_type": "execute_result"
    }
   ],
   "source": [
    "from pandas import DataFrame\n",
    "with open('data/stateoftheunion1790-2017.txt','r') as f:\n",
    "    all=f.read()\n",
    "    speeches=all.split('***')\n",
    "speeches=speeches[1:] \n",
    "raw=pd.read_csv('data/stateoftheunion1790-2017.txt',skiprows=9,nrows=227,names=['president','title','date',''],parse_dates=[[2,3]])\n",
    "raw.head()\n",
    "speeches_content = DataFrame({'president':raw['president'],'title':raw['title'],'date':raw['date_'],'content': speeches})\n",
    "obama_speeches_content=speeches_content[speeches_content['president'].str.contains( \"Barack Obama\")]\n",
    "obama_speeches_content.head()"
   ]
  },
  {
   "cell_type": "code",
   "execution_count": 4,
   "metadata": {
    "collapsed": true
   },
   "outputs": [],
   "source": [
    "import nltk\n",
    "import re\n",
    "from nltk.stem import PorterStemmer\n",
    "from nltk.tokenize import word_tokenize\n",
    "from nltk.corpus import stopwords\n",
    "import string\n",
    "\n",
    "def tokenize_fliter_stem(texts):\n",
    "    # tokenize words and send them to lower case\n",
    "    tokens = [word.lower() for sent in nltk.sent_tokenize(texts) for word in nltk.word_tokenize(sent)]\n",
    "    # combine stop words and punctuation\n",
    "    stop = stopwords.words(\"english\") + list(string.punctuation)\n",
    "    # filter out stop words and punctuation \n",
    "    filtered_tokens =[]\n",
    "    for token in tokens:\n",
    "        if token not in stop:\n",
    "            filtered_tokens.append(token)\n",
    "    # create the stemmer\n",
    "    stemmer = PorterStemmer()\n",
    "    stems = [stemmer.stem(t) for t in filtered_tokens]\n",
    "    return(stems)\n"
   ]
  },
  {
   "cell_type": "code",
   "execution_count": 5,
   "metadata": {},
   "outputs": [
    {
     "data": {
      "text/plain": [
       "[(\"'s\", 681),\n",
       " ('american', 319),\n",
       " ('year', 297),\n",
       " (\"n't\", 274),\n",
       " ('job', 250),\n",
       " ('america', 243),\n",
       " ('work', 240),\n",
       " ('new', 217),\n",
       " ('make', 211),\n",
       " ('peopl', 204),\n",
       " ('us', 184),\n",
       " (\"'ve\", 167),\n",
       " ('help', 152),\n",
       " ('get', 152),\n",
       " ('need', 151),\n",
       " ('countri', 145),\n",
       " (\"'re\", 145),\n",
       " ('everi', 140),\n",
       " ('let', 140),\n",
       " ('time', 139),\n",
       " ('know', 137),\n",
       " ('one', 137),\n",
       " ('busi', 132),\n",
       " ('right', 129),\n",
       " ('world', 124),\n",
       " ('nation', 121),\n",
       " ('like', 119),\n",
       " ('economi', 116),\n",
       " ('famili', 110),\n",
       " ('tax', 108),\n",
       " ('tonight', 103),\n",
       " ('want', 103),\n",
       " ('congress', 100),\n",
       " ('state', 99),\n",
       " ('energi', 96),\n",
       " ('last', 94),\n",
       " ('come', 92),\n",
       " ('take', 91),\n",
       " ('also', 87),\n",
       " ('chang', 84)]"
      ]
     },
     "execution_count": 5,
     "metadata": {},
     "output_type": "execute_result"
    }
   ],
   "source": [
    "# from collections import Counter\n",
    "from collections import Counter\n",
    "\n",
    "results = obama_speeches_content['content'].apply(tokenize_fliter_stem)  \n",
    "result=results.sum()\n",
    "oba_count = Counter(result)\n",
    "oba_count.most_common(40)"
   ]
  },
  {
   "cell_type": "markdown",
   "metadata": {},
   "source": [
    "In the speeches of Obama, he talked about \"american\",\"country\",\"congress\" a lot, which is not surprised. He cares about \"jobs\", \"works\",\"economy\",\"energy\",\"tax\",\"family\" and \"People\". He wants to \"help ,\"change\"."
   ]
  },
  {
   "cell_type": "code",
   "execution_count": 6,
   "metadata": {},
   "outputs": [
    {
     "data": {
      "text/html": [
       "<div>\n",
       "<style>\n",
       "    .dataframe thead tr:only-child th {\n",
       "        text-align: right;\n",
       "    }\n",
       "\n",
       "    .dataframe thead th {\n",
       "        text-align: left;\n",
       "    }\n",
       "\n",
       "    .dataframe tbody tr th {\n",
       "        vertical-align: top;\n",
       "    }\n",
       "</style>\n",
       "<table border=\"1\" class=\"dataframe\">\n",
       "  <thead>\n",
       "    <tr style=\"text-align: right;\">\n",
       "      <th></th>\n",
       "      <th>content</th>\n",
       "      <th>date</th>\n",
       "      <th>president</th>\n",
       "      <th>title</th>\n",
       "      <th>tokenized speech</th>\n",
       "    </tr>\n",
       "  </thead>\n",
       "  <tbody>\n",
       "    <tr>\n",
       "      <th>0</th>\n",
       "      <td>\\n\\nState of the Union Address\\nGeorge Washing...</td>\n",
       "      <td>1790-01-08</td>\n",
       "      <td>George Washington</td>\n",
       "      <td>State of the Union Address</td>\n",
       "      <td>[state, of, the, union, address, george, washi...</td>\n",
       "    </tr>\n",
       "    <tr>\n",
       "      <th>1</th>\n",
       "      <td>\\n\\nState of the Union Address\\nGeorge Washing...</td>\n",
       "      <td>1790-12-08</td>\n",
       "      <td>George Washington</td>\n",
       "      <td>State of the Union Address</td>\n",
       "      <td>[state, of, the, union, address, george, washi...</td>\n",
       "    </tr>\n",
       "    <tr>\n",
       "      <th>2</th>\n",
       "      <td>\\n\\nState of the Union Address\\nGeorge Washing...</td>\n",
       "      <td>1791-10-25</td>\n",
       "      <td>George Washington</td>\n",
       "      <td>State of the Union Address</td>\n",
       "      <td>[state, of, the, union, address, george, washi...</td>\n",
       "    </tr>\n",
       "    <tr>\n",
       "      <th>3</th>\n",
       "      <td>\\n\\nState of the Union Address\\nGeorge Washing...</td>\n",
       "      <td>1792-11-06</td>\n",
       "      <td>George Washington</td>\n",
       "      <td>State of the Union Address</td>\n",
       "      <td>[state, of, the, union, address, george, washi...</td>\n",
       "    </tr>\n",
       "    <tr>\n",
       "      <th>4</th>\n",
       "      <td>\\n\\nState of the Union Address\\nGeorge Washing...</td>\n",
       "      <td>1793-12-03</td>\n",
       "      <td>George Washington</td>\n",
       "      <td>State of the Union Address</td>\n",
       "      <td>[state, of, the, union, address, george, washi...</td>\n",
       "    </tr>\n",
       "  </tbody>\n",
       "</table>\n",
       "</div>"
      ],
      "text/plain": [
       "                                             content       date  \\\n",
       "0  \\n\\nState of the Union Address\\nGeorge Washing... 1790-01-08   \n",
       "1  \\n\\nState of the Union Address\\nGeorge Washing... 1790-12-08   \n",
       "2  \\n\\nState of the Union Address\\nGeorge Washing... 1791-10-25   \n",
       "3  \\n\\nState of the Union Address\\nGeorge Washing... 1792-11-06   \n",
       "4  \\n\\nState of the Union Address\\nGeorge Washing... 1793-12-03   \n",
       "\n",
       "             president                        title  \\\n",
       "0    George Washington   State of the Union Address   \n",
       "1    George Washington   State of the Union Address   \n",
       "2    George Washington   State of the Union Address   \n",
       "3    George Washington   State of the Union Address   \n",
       "4    George Washington   State of the Union Address   \n",
       "\n",
       "                                    tokenized speech  \n",
       "0  [state, of, the, union, address, george, washi...  \n",
       "1  [state, of, the, union, address, george, washi...  \n",
       "2  [state, of, the, union, address, george, washi...  \n",
       "3  [state, of, the, union, address, george, washi...  \n",
       "4  [state, of, the, union, address, george, washi...  "
      ]
     },
     "execution_count": 6,
     "metadata": {},
     "output_type": "execute_result"
    }
   ],
   "source": [
    "#tokenize speech and count how many quote mark in each speech\n",
    "def tokenizer(texts):\n",
    "    # tokenize speech\n",
    "    words = word_tokenize(texts)\n",
    "    lowerwords = [w.lower() for w in words]\n",
    "    return(lowerwords)\n",
    "\n",
    "speeches_content['tokenized speech']= speeches_content['content'].apply(tokenizer)\n",
    "speeches_content.head()"
   ]
  },
  {
   "cell_type": "code",
   "execution_count": 21,
   "metadata": {},
   "outputs": [
    {
     "data": {
      "text/html": [
       "<div>\n",
       "<style>\n",
       "    .dataframe thead tr:only-child th {\n",
       "        text-align: right;\n",
       "    }\n",
       "\n",
       "    .dataframe thead th {\n",
       "        text-align: left;\n",
       "    }\n",
       "\n",
       "    .dataframe tbody tr th {\n",
       "        vertical-align: top;\n",
       "    }\n",
       "</style>\n",
       "<table border=\"1\" class=\"dataframe\">\n",
       "  <thead>\n",
       "    <tr style=\"text-align: right;\">\n",
       "      <th></th>\n",
       "      <th>content</th>\n",
       "      <th>date</th>\n",
       "      <th>president</th>\n",
       "      <th>title</th>\n",
       "      <th>tokenized speech</th>\n",
       "      <th>freqency</th>\n",
       "      <th>positive_words_freqency</th>\n",
       "    </tr>\n",
       "  </thead>\n",
       "  <tbody>\n",
       "    <tr>\n",
       "      <th>0</th>\n",
       "      <td>\\n\\nState of the Union Address\\nGeorge Washing...</td>\n",
       "      <td>1790-01-08</td>\n",
       "      <td>George Washington</td>\n",
       "      <td>State of the Union Address</td>\n",
       "      <td>[state, of, the, union, address, george, washi...</td>\n",
       "      <td>15</td>\n",
       "      <td>184</td>\n",
       "    </tr>\n",
       "    <tr>\n",
       "      <th>1</th>\n",
       "      <td>\\n\\nState of the Union Address\\nGeorge Washing...</td>\n",
       "      <td>1790-12-08</td>\n",
       "      <td>George Washington</td>\n",
       "      <td>State of the Union Address</td>\n",
       "      <td>[state, of, the, union, address, george, washi...</td>\n",
       "      <td>15</td>\n",
       "      <td>144</td>\n",
       "    </tr>\n",
       "    <tr>\n",
       "      <th>2</th>\n",
       "      <td>\\n\\nState of the Union Address\\nGeorge Washing...</td>\n",
       "      <td>1791-10-25</td>\n",
       "      <td>George Washington</td>\n",
       "      <td>State of the Union Address</td>\n",
       "      <td>[state, of, the, union, address, george, washi...</td>\n",
       "      <td>9</td>\n",
       "      <td>276</td>\n",
       "    </tr>\n",
       "    <tr>\n",
       "      <th>3</th>\n",
       "      <td>\\n\\nState of the Union Address\\nGeorge Washing...</td>\n",
       "      <td>1792-11-06</td>\n",
       "      <td>George Washington</td>\n",
       "      <td>State of the Union Address</td>\n",
       "      <td>[state, of, the, union, address, george, washi...</td>\n",
       "      <td>30</td>\n",
       "      <td>208</td>\n",
       "    </tr>\n",
       "    <tr>\n",
       "      <th>4</th>\n",
       "      <td>\\n\\nState of the Union Address\\nGeorge Washing...</td>\n",
       "      <td>1793-12-03</td>\n",
       "      <td>George Washington</td>\n",
       "      <td>State of the Union Address</td>\n",
       "      <td>[state, of, the, union, address, george, washi...</td>\n",
       "      <td>22</td>\n",
       "      <td>188</td>\n",
       "    </tr>\n",
       "  </tbody>\n",
       "</table>\n",
       "</div>"
      ],
      "text/plain": [
       "                                             content       date  \\\n",
       "0  \\n\\nState of the Union Address\\nGeorge Washing... 1790-01-08   \n",
       "1  \\n\\nState of the Union Address\\nGeorge Washing... 1790-12-08   \n",
       "2  \\n\\nState of the Union Address\\nGeorge Washing... 1791-10-25   \n",
       "3  \\n\\nState of the Union Address\\nGeorge Washing... 1792-11-06   \n",
       "4  \\n\\nState of the Union Address\\nGeorge Washing... 1793-12-03   \n",
       "\n",
       "             president                        title  \\\n",
       "0    George Washington   State of the Union Address   \n",
       "1    George Washington   State of the Union Address   \n",
       "2    George Washington   State of the Union Address   \n",
       "3    George Washington   State of the Union Address   \n",
       "4    George Washington   State of the Union Address   \n",
       "\n",
       "                                    tokenized speech  freqency  \\\n",
       "0  [state, of, the, union, address, george, washi...        15   \n",
       "1  [state, of, the, union, address, george, washi...        15   \n",
       "2  [state, of, the, union, address, george, washi...         9   \n",
       "3  [state, of, the, union, address, george, washi...        30   \n",
       "4  [state, of, the, union, address, george, washi...        22   \n",
       "\n",
       "   positive_words_freqency  \n",
       "0                      184  \n",
       "1                      144  \n",
       "2                      276  \n",
       "3                      208  \n",
       "4                      188  "
      ]
     },
     "execution_count": 21,
     "metadata": {},
     "output_type": "execute_result"
    }
   ],
   "source": [
    "def word_vector(doc,vocab):\n",
    "    docs=[(w) for w in doc]\n",
    "    counts=Counter(docs)\n",
    "    return [counts[s] for s in vocab]\n",
    "\n",
    "wanted = ['i','my','me', 'myself']\n",
    "counts=[]\n",
    "for row in speeches_content['tokenized speech']:\n",
    "     counts.append(word_vector(row, wanted))\n",
    "counts\n",
    "freqency=[sum(i) for i in counts]\n",
    "\n",
    "speeches_content['freqency']=freqency\n",
    "speeches_content.head()"
   ]
  },
  {
   "cell_type": "code",
   "execution_count": 20,
   "metadata": {},
   "outputs": [
    {
     "data": {
      "text/plain": [
       "(array([ 0,  1,  2,  3,  4,  5,  6,  7,  8,  9, 10, 11, 12, 13, 14, 15, 16,\n",
       "        17, 18, 19, 20, 21, 22, 23, 24, 25, 26, 27, 28, 29, 30, 31, 32, 33,\n",
       "        34, 35, 36, 37, 38, 39, 40, 41]),\n",
       " <a list of 42 Text xticklabel objects>)"
      ]
     },
     "execution_count": 20,
     "metadata": {},
     "output_type": "execute_result"
    },
    {
     "data": {
      "image/png": "[encoded data removed]",
      "text/plain": [
       "<matplotlib.figure.Figure at 0x128fe3240>"
      ]
     },
     "metadata": {},
     "output_type": "display_data"
    }
   ],
   "source": [
    "sns.set_style(\"whitegrid\")\n",
    "sns.boxplot(data=speeches_content, x= \"president\", y=\"freqency\")\n",
    "plt.xlabel(\"president\")\n",
    "plt.ylabel(\"freqency\");\n",
    "plt.xticks(rotation='vertical') "
   ]
  },
  {
   "cell_type": "markdown",
   "metadata": {},
   "source": [
    "From graph above, we can we Obama use words such \"i\", \"me\" and \"my\" a lot compared to other presidents, which indicates that he likes to talk about himself a lot."
   ]
  },
  {
   "cell_type": "code",
   "execution_count": 13,
   "metadata": {},
   "outputs": [
    {
     "data": {
      "text/plain": [
       "['abidance',\n",
       " 'abidance',\n",
       " 'abilities',\n",
       " 'ability',\n",
       " 'able',\n",
       " 'above',\n",
       " 'above-average',\n",
       " 'abundant',\n",
       " 'abundance',\n",
       " 'acceptance']"
      ]
     },
     "execution_count": 13,
     "metadata": {},
     "output_type": "execute_result"
    }
   ],
   "source": [
    "pos_sent = open(\"positive.txt\").read()\n",
    "positive_words=pos_sent.split('\\n')\n",
    "positive_words[:10]"
   ]
  },
  {
   "cell_type": "code",
   "execution_count": 17,
   "metadata": {},
   "outputs": [
    {
     "data": {
      "text/html": [
       "<div>\n",
       "<style>\n",
       "    .dataframe thead tr:only-child th {\n",
       "        text-align: right;\n",
       "    }\n",
       "\n",
       "    .dataframe thead th {\n",
       "        text-align: left;\n",
       "    }\n",
       "\n",
       "    .dataframe tbody tr th {\n",
       "        vertical-align: top;\n",
       "    }\n",
       "</style>\n",
       "<table border=\"1\" class=\"dataframe\">\n",
       "  <thead>\n",
       "    <tr style=\"text-align: right;\">\n",
       "      <th></th>\n",
       "      <th>content</th>\n",
       "      <th>date</th>\n",
       "      <th>president</th>\n",
       "      <th>title</th>\n",
       "      <th>tokenized speech</th>\n",
       "      <th>freqency</th>\n",
       "      <th>positive_words_freqency</th>\n",
       "    </tr>\n",
       "  </thead>\n",
       "  <tbody>\n",
       "    <tr>\n",
       "      <th>0</th>\n",
       "      <td>\\n\\nState of the Union Address\\nGeorge Washing...</td>\n",
       "      <td>1790-01-08</td>\n",
       "      <td>George Washington</td>\n",
       "      <td>State of the Union Address</td>\n",
       "      <td>[state, of, the, union, address, george, washi...</td>\n",
       "      <td>15</td>\n",
       "      <td>184</td>\n",
       "    </tr>\n",
       "    <tr>\n",
       "      <th>1</th>\n",
       "      <td>\\n\\nState of the Union Address\\nGeorge Washing...</td>\n",
       "      <td>1790-12-08</td>\n",
       "      <td>George Washington</td>\n",
       "      <td>State of the Union Address</td>\n",
       "      <td>[state, of, the, union, address, george, washi...</td>\n",
       "      <td>15</td>\n",
       "      <td>144</td>\n",
       "    </tr>\n",
       "    <tr>\n",
       "      <th>2</th>\n",
       "      <td>\\n\\nState of the Union Address\\nGeorge Washing...</td>\n",
       "      <td>1791-10-25</td>\n",
       "      <td>George Washington</td>\n",
       "      <td>State of the Union Address</td>\n",
       "      <td>[state, of, the, union, address, george, washi...</td>\n",
       "      <td>9</td>\n",
       "      <td>276</td>\n",
       "    </tr>\n",
       "    <tr>\n",
       "      <th>3</th>\n",
       "      <td>\\n\\nState of the Union Address\\nGeorge Washing...</td>\n",
       "      <td>1792-11-06</td>\n",
       "      <td>George Washington</td>\n",
       "      <td>State of the Union Address</td>\n",
       "      <td>[state, of, the, union, address, george, washi...</td>\n",
       "      <td>30</td>\n",
       "      <td>208</td>\n",
       "    </tr>\n",
       "    <tr>\n",
       "      <th>4</th>\n",
       "      <td>\\n\\nState of the Union Address\\nGeorge Washing...</td>\n",
       "      <td>1793-12-03</td>\n",
       "      <td>George Washington</td>\n",
       "      <td>State of the Union Address</td>\n",
       "      <td>[state, of, the, union, address, george, washi...</td>\n",
       "      <td>22</td>\n",
       "      <td>188</td>\n",
       "    </tr>\n",
       "  </tbody>\n",
       "</table>\n",
       "</div>"
      ],
      "text/plain": [
       "                                             content       date  \\\n",
       "0  \\n\\nState of the Union Address\\nGeorge Washing... 1790-01-08   \n",
       "1  \\n\\nState of the Union Address\\nGeorge Washing... 1790-12-08   \n",
       "2  \\n\\nState of the Union Address\\nGeorge Washing... 1791-10-25   \n",
       "3  \\n\\nState of the Union Address\\nGeorge Washing... 1792-11-06   \n",
       "4  \\n\\nState of the Union Address\\nGeorge Washing... 1793-12-03   \n",
       "\n",
       "             president                        title  \\\n",
       "0    George Washington   State of the Union Address   \n",
       "1    George Washington   State of the Union Address   \n",
       "2    George Washington   State of the Union Address   \n",
       "3    George Washington   State of the Union Address   \n",
       "4    George Washington   State of the Union Address   \n",
       "\n",
       "                                    tokenized speech  freqency  \\\n",
       "0  [state, of, the, union, address, george, washi...        15   \n",
       "1  [state, of, the, union, address, george, washi...        15   \n",
       "2  [state, of, the, union, address, george, washi...         9   \n",
       "3  [state, of, the, union, address, george, washi...        30   \n",
       "4  [state, of, the, union, address, george, washi...        22   \n",
       "\n",
       "   positive_words_freqency  \n",
       "0                      184  \n",
       "1                      144  \n",
       "2                      276  \n",
       "3                      208  \n",
       "4                      188  "
      ]
     },
     "execution_count": 17,
     "metadata": {},
     "output_type": "execute_result"
    }
   ],
   "source": [
    "counts2=[word_vector(row, positive_words) for row in speeches_content['tokenized speech']]\n",
    "\n",
    "pos_freqency=[sum(i) for i in counts2]\n",
    "\n",
    "speeches_content['positive_words_freqency']=pos_freqency\n",
    "speeches_content.head()"
   ]
  },
  {
   "cell_type": "code",
   "execution_count": 19,
   "metadata": {},
   "outputs": [
    {
     "data": {
      "text/plain": [
       "(array([ 0,  1,  2,  3,  4,  5,  6,  7,  8,  9, 10, 11, 12, 13, 14, 15, 16,\n",
       "        17, 18, 19, 20, 21, 22, 23, 24, 25, 26, 27, 28, 29, 30, 31, 32, 33,\n",
       "        34, 35, 36, 37, 38, 39, 40, 41]),\n",
       " <a list of 42 Text xticklabel objects>)"
      ]
     },
     "execution_count": 19,
     "metadata": {},
     "output_type": "execute_result"
    },
    {
     "data": {
      "image/png": "[encoded data removed]",
      "text/plain": [
       "<matplotlib.figure.Figure at 0x1229f6240>"
      ]
     },
     "metadata": {},
     "output_type": "display_data"
    }
   ],
   "source": [
    "sns.boxplot(data=speeches_content, x= \"president\", y=\"positive_words_freqency\")\n",
    "plt.xlabel(\"president\")\n",
    "plt.ylabel(\"positive words freqency\");\n",
    "plt.xticks(rotation='vertical') "
   ]
  },
  {
   "cell_type": "markdown",
   "metadata": {},
   "source": [
    "Surprisingly, Obama do not use a lot of positive words compared to other presidents. Among all the presidents, Theodore and William H. Taft use positive words the most. "
   ]
  }
 ],
 "metadata": {
  "kernelspec": {
   "display_name": "Python 3",
   "language": "python",
   "name": "python3"
  },
  "language_info": {
   "codemirror_mode": {
    "name": "ipython",
    "version": 3
   },
   "file_extension": ".py",
   "mimetype": "text/x-python",
   "name": "python",
   "nbconvert_exporter": "python",
   "pygments_lexer": "ipython3",
   "version": "3.6.1"
  }
 },
 "nbformat": 4,
 "nbformat_minor": 2
}
