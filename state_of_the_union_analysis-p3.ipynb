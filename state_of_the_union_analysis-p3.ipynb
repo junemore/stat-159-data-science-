{
 "cells": [
  {
   "cell_type": "markdown",
   "metadata": {},
   "source": [
    "# An analysis of the State of the Union speeches - Part 3\n",
    "# Word analysis"
   ]
  },
  {
   "cell_type": "code",
   "execution_count": 1,
   "metadata": {
    "collapsed": true
   },
   "outputs": [],
   "source": [
    "%matplotlib inline\n",
    "import matplotlib.pyplot as plt\n",
    "import numpy as np\n",
    "import pandas as pd\n",
    "import seaborn as sns\n",
    "\n",
    "from collections import Counter\n",
    "import shelve\n",
    "\n",
    "plt.style.use('seaborn-dark')\n",
    "plt.rcParams['figure.figsize'] = (10, 6)"
   ]
  },
  {
   "cell_type": "markdown",
   "metadata": {},
   "source": [
    "Load data we need from previous runs"
   ]
  },
  {
   "cell_type": "code",
   "execution_count": 2,
   "metadata": {},
   "outputs": [
    {
     "data": {
      "text/html": [
       "<div>\n",
       "<style scoped>\n",
       "    .dataframe tbody tr th:only-of-type {\n",
       "        vertical-align: middle;\n",
       "    }\n",
       "\n",
       "    .dataframe tbody tr th {\n",
       "        vertical-align: top;\n",
       "    }\n",
       "\n",
       "    .dataframe thead th {\n",
       "        text-align: right;\n",
       "    }\n",
       "</style>\n",
       "<table border=\"1\" class=\"dataframe\">\n",
       "  <thead>\n",
       "    <tr style=\"text-align: right;\">\n",
       "      <th></th>\n",
       "      <th>president</th>\n",
       "      <th>title</th>\n",
       "      <th>date</th>\n",
       "      <th>n_sent</th>\n",
       "      <th>n_words_all</th>\n",
       "      <th>n_words</th>\n",
       "      <th>n_uwords</th>\n",
       "      <th>n_swords</th>\n",
       "      <th>n_chars</th>\n",
       "    </tr>\n",
       "  </thead>\n",
       "  <tbody>\n",
       "    <tr>\n",
       "      <th>0</th>\n",
       "      <td>George Washington</td>\n",
       "      <td>State of the Union Address</td>\n",
       "      <td>1790-01-08</td>\n",
       "      <td>24</td>\n",
       "      <td>1178</td>\n",
       "      <td>538</td>\n",
       "      <td>398</td>\n",
       "      <td>356</td>\n",
       "      <td>6753</td>\n",
       "    </tr>\n",
       "    <tr>\n",
       "      <th>1</th>\n",
       "      <td>George Washington</td>\n",
       "      <td>State of the Union Address</td>\n",
       "      <td>1790-12-08</td>\n",
       "      <td>40</td>\n",
       "      <td>1515</td>\n",
       "      <td>683</td>\n",
       "      <td>516</td>\n",
       "      <td>461</td>\n",
       "      <td>8455</td>\n",
       "    </tr>\n",
       "    <tr>\n",
       "      <th>2</th>\n",
       "      <td>George Washington</td>\n",
       "      <td>State of the Union Address</td>\n",
       "      <td>1791-10-25</td>\n",
       "      <td>60</td>\n",
       "      <td>2487</td>\n",
       "      <td>1136</td>\n",
       "      <td>740</td>\n",
       "      <td>622</td>\n",
       "      <td>14203</td>\n",
       "    </tr>\n",
       "    <tr>\n",
       "      <th>3</th>\n",
       "      <td>George Washington</td>\n",
       "      <td>State of the Union Address</td>\n",
       "      <td>1792-11-06</td>\n",
       "      <td>61</td>\n",
       "      <td>2298</td>\n",
       "      <td>1042</td>\n",
       "      <td>693</td>\n",
       "      <td>578</td>\n",
       "      <td>12764</td>\n",
       "    </tr>\n",
       "    <tr>\n",
       "      <th>4</th>\n",
       "      <td>George Washington</td>\n",
       "      <td>State of the Union Address</td>\n",
       "      <td>1793-12-03</td>\n",
       "      <td>56</td>\n",
       "      <td>2132</td>\n",
       "      <td>972</td>\n",
       "      <td>720</td>\n",
       "      <td>652</td>\n",
       "      <td>11696</td>\n",
       "    </tr>\n",
       "  </tbody>\n",
       "</table>\n",
       "</div>"
      ],
      "text/plain": [
       "             president                        title       date  n_sent  \\\n",
       "0    George Washington   State of the Union Address 1790-01-08      24   \n",
       "1    George Washington   State of the Union Address 1790-12-08      40   \n",
       "2    George Washington   State of the Union Address 1791-10-25      60   \n",
       "3    George Washington   State of the Union Address 1792-11-06      61   \n",
       "4    George Washington   State of the Union Address 1793-12-03      56   \n",
       "\n",
       "   n_words_all  n_words  n_uwords  n_swords  n_chars  \n",
       "0         1178      538       398       356     6753  \n",
       "1         1515      683       516       461     8455  \n",
       "2         2487     1136       740       622    14203  \n",
       "3         2298     1042       693       578    12764  \n",
       "4         2132      972       720       652    11696  "
      ]
     },
     "execution_count": 2,
     "metadata": {},
     "output_type": "execute_result"
    }
   ],
   "source": [
    "addresses = pd.read_hdf('results/df2.h5', 'addresses')\n",
    "addresses.head()"
   ]
  },
  {
   "cell_type": "code",
   "execution_count": 3,
   "metadata": {
    "collapsed": true
   },
   "outputs": [],
   "source": [
    "with shelve.open('results/vars2') as db:\n",
    "    speech_words = db['speech_words']\n",
    "    speeches_cleaned = db['speeches_cleaned']"
   ]
  },
  {
   "cell_type": "markdown",
   "metadata": {},
   "source": [
    "Let's make a single set of all unique words across all speeches"
   ]
  },
  {
   "cell_type": "code",
   "execution_count": 4,
   "metadata": {},
   "outputs": [
    {
     "data": {
      "text/plain": [
       "18797"
      ]
     },
     "execution_count": 4,
     "metadata": {},
     "output_type": "execute_result"
    }
   ],
   "source": [
    "from collections import Iterable\n",
    "unique_words=[]\n",
    "for i in speeches_cleaned:\n",
    "    unique_words.extend(i)\n",
    "unique_words=Counter(unique_words).keys()\n",
    "unique_words=list(unique_words)\n",
    "n_words=len(unique_words)\n",
    "n_words\n",
    "# number of unique words across all speeches"
   ]
  },
  {
   "cell_type": "markdown",
   "metadata": {},
   "source": [
    "Now we create a word matrix, whose columns are word vectors for each speech. A word vector contains the word counts for each word across the entire document set. "
   ]
  },
  {
   "cell_type": "code",
   "execution_count": 5,
   "metadata": {
    "collapsed": true
   },
   "outputs": [],
   "source": [
    "def word_vector(doc, vocab):\n",
    "    \"\"\"Return a word vector for the input document in the context of a given vocabulary.\n",
    "    \n",
    "    Parameters\n",
    "    ----------\n",
    "    \n",
    "    doc: iterable of words\n",
    "       \n",
    "    vocab : iterable of words\n",
    "    integer, size of the entire vocabulary across documents.\n",
    "    \n",
    "    Return\n",
    "    ------\n",
    "    array\n",
    "        An integer array, of length equal to `len(vocab)`, containing the count for each\n",
    "        word in `doc` at its corresponding position in `vocab`.\n",
    "        \n",
    "    Example\n",
    "    -------\n",
    "    \n",
    "    >>> doc = \"b c b c e\".split()\n",
    "    ... vocab = \"a b c d e f\".split()\n",
    "    ... word_vector(doc, vocab)\n",
    "    ... \n",
    "    array([0, 2, 2, 0, 1, 0])\n",
    "    \"\"\"\n",
    "    counts=[]\n",
    "    count=0\n",
    "    for i in np.arange(len(vocab)):\n",
    "        for letter in doc:\n",
    "            if vocab[i]==letter:\n",
    "                count+=1\n",
    "        counts.append(count)\n",
    "        count=0\n",
    "    return counts"
   ]
  },
  {
   "cell_type": "markdown",
   "metadata": {},
   "source": [
    "Let's write a simple unit test for this:"
   ]
  },
  {
   "cell_type": "code",
   "execution_count": null,
   "metadata": {
    "collapsed": true
   },
   "outputs": [],
   "source": [
    "def test_word_vector():\n",
    "    doc = \"b c b c e\".split()\n",
    "    vocab = \"a b c d e f\".split()\n",
    "    wv = word_vector(doc, vocab)\n",
    "    np.testing.assert_equal(wv, np.array([0, 2, 2, 0, 1, 0]) )\n",
    "\n",
    "test_word_vector()"
   ]
  },
  {
   "cell_type": "markdown",
   "metadata": {},
   "source": [
    "Now let's make the word matrix for our entire set of documents"
   ]
  },
  {
   "cell_type": "code",
   "execution_count": null,
   "metadata": {},
   "outputs": [],
   "source": [
    "# YOUR CODE HERE\n",
    "results=[]\n",
    "for look_up in speeches_cleaned:\n",
    "    results.append(word_vector(look_up,unique_words))   \n",
    "wmat=pd.DataFrame(np.array(results).T,index=unique_words)      \n",
    "wmat[500:510]"
   ]
  },
  {
   "cell_type": "markdown",
   "metadata": {},
   "source": [
    "How sparse is this matrix?"
   ]
  },
  {
   "cell_type": "code",
   "execution_count": null,
   "metadata": {
    "collapsed": true
   },
   "outputs": [],
   "source": [
    "# YOUR CODE HERE\n",
    "#sparsity\n",
    "#print(f\"wmat is comprised of {100*sparsity:.2f}% zeros.\")"
   ]
  },
  {
   "cell_type": "markdown",
   "metadata": {},
   "source": [
    "## Intermediate results storage\n",
    "\n",
    "We'll need a few results for the next step, so let's store them in a new set of HDF5/shelve stores for this notebook:"
   ]
  },
  {
   "cell_type": "code",
   "execution_count": null,
   "metadata": {
    "collapsed": true
   },
   "outputs": [],
   "source": [
    "wmat.to_hdf('results/df3.h5', 'wmat')\n",
    "with shelve.open('results/vars3') as db:\n",
    "    db['unique_words'] = unique_words"
   ]
  }
 ],
 "metadata": {
  "kernelspec": {
   "display_name": "Python 3",
   "language": "python",
   "name": "python3"
  },
  "language_info": {
   "codemirror_mode": {
    "name": "ipython",
    "version": 3
   },
   "file_extension": ".py",
   "mimetype": "text/x-python",
   "name": "python",
   "nbconvert_exporter": "python",
   "pygments_lexer": "ipython3",
   "version": "3.6.2"
  }
 },
 "nbformat": 4,
 "nbformat_minor": 2
}
