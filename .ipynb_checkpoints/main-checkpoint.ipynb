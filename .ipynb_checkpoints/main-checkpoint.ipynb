{
 "cells": [
  {
   "cell_type": "markdown",
   "metadata": {},
   "source": [
    "# An analysis of the State of the Union speeches\n",
    "\n",
    "**Authors: Yuanfeng Hu **"
   ]
  },
  {
   "cell_type": "markdown",
   "metadata": {},
   "source": [
    "## Abstract\n",
    "\n",
    ".. brief summary of your conclusions here"
   ]
  },
  {
   "cell_type": "markdown",
   "metadata": {},
   "source": [
    "## Content"
   ]
  },
  {
   "cell_type": "markdown",
   "metadata": {
    "collapsed": true
   },
   "source": [
    "**45 terms of Presidencies and 42 Presidents delievered SOTU ?**\n",
    "\n",
    "\tWhile we are working through the notebook 1, we notice some discrepancies in the results. In order to figure out what really happens, we did some research and we found something really interesting. \n",
    "\tAs none of us are experts in U.S history, some of the discrepancies are just confusing and makes us scratch our head. For example, why is that the sitting President, President Donald Trump, is the 45th President, but there have only been 42 unique State of Union (SOTU) address. Let’s put this into a formal question, why is that only 42 Presidents delivered the State of Union address while there are 45 terms of Presidencies?  We started with the though that perhaps there were no SOTU address delivered during the time of World Wars. However, after checking that there are indeed SOTU address delivered during 1914 to 1918(WWI) and 1939 to 1945(WWII). Our second thought is that perhaps some President did not deliver SOTU address. This thought had not been our initial guess since the Constitution requires the President to periodically give Congress information on the \"state of the union\", thus making us though that none of the President would skip. However, our research suggests otherwise. It turns out that there are two presidents who never delivered an Annual Message or State of the Union Address. William Henry Harrison and James Garfield both died before they had the chance to deliver one. Harrison passed away from pneumonia in 1841 and Garfield died from an assassin’s bullet in 1881. \n",
    "\tMinus the two Presidents who didn’t deliver SOTU address, we are still one number shy from the 42 unique speeches. This problem turns out to be extremely confusing. As a result, we decided to cross reference the list of Presidents in our txt file and resource from Internet. Surprisingly, we found the discrepancies. The address of index 103 is the President Benjamin Harrison last address on 1892, and the address of index 104 is President William McKinley first address on 1898. President Grover Cleveland second term is from 1893 to 1897, which is skipped in the data txt. Grover Cleveland stands alone in American history as the only President to serve non-consecutive terms. He was the 22nd and 24th President of the United States. Due to these non-consecutive terms, he addresses only count as 1 unique address.\n",
    "\tNow, we are finally able to answer that question. 45 terms of Presidency minus the two Presidents who didn’t deliver and the one President, who served non-consecutive terms, we can now understand the discrepancies. This discrepancy also explains the large gap in the plot of time in p1, since s. (The data on second term of President Grove Cleveland (1893-1897) wasn't include in the txt)\n",
    "\n"
   ]
  },
  {
   "cell_type": "code",
   "execution_count": null,
   "metadata": {
    "collapsed": true
   },
   "outputs": [],
   "source": []
  }
 ],
 "metadata": {
  "kernelspec": {
   "display_name": "Python [default]",
   "language": "python",
   "name": "python3"
  },
  "language_info": {
   "codemirror_mode": {
    "name": "ipython",
    "version": 3
   },
   "file_extension": ".py",
   "mimetype": "text/x-python",
   "name": "python",
   "nbconvert_exporter": "python",
   "pygments_lexer": "ipython3",
   "version": "3.6.1"
  }
 },
 "nbformat": 4,
 "nbformat_minor": 2
}
