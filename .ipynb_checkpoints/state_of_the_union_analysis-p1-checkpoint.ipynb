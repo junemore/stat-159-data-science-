{
 "cells": [
  {
   "cell_type": "markdown",
   "metadata": {},
   "source": [
    "# An analysis of the State of the Union speeches - Part 1"
   ]
  },
  {
   "cell_type": "code",
   "execution_count": 11,
   "metadata": {
    "collapsed": true
   },
   "outputs": [],
   "source": [
    "%matplotlib inline\n",
    "import matplotlib.pyplot as plt\n",
    "import numpy as np\n",
    "import pandas as pd\n",
    "import seaborn as sns\n",
    "\n",
    "import shelve\n",
    "\n",
    "plt.style.use('seaborn-dark')\n",
    "plt.rcParams['figure.figsize'] = (10, 6)"
   ]
  },
  {
   "cell_type": "markdown",
   "metadata": {},
   "source": [
    "This is a \"hollowed out\" version of my complete analysis, leaving you a few results to check your progress:"
   ]
  },
  {
   "cell_type": "markdown",
   "metadata": {},
   "source": [
    "*** The original txt file is quite larger, so we decided to break it down to smaller pieces, each piece contain only one speech. In this way, we can manipulate the data more efficently. For the content of speech, we split the txt file using '* * *' as boundary. We store the content of the speech in a list, called \"speeches\".***\n",
    "\n",
    "***To render the specific results for this question. We only need a segment of the the origin txt file. We skip the firt 9 rows of the txt file, since they are just some unrelated information. Then, we decied to the take data from row 10 to row 237 (total of 227 rows). These rows contain the information of the name of pressident, title of speech , and date of the speech. We read them in as csv file, and then converted it to DataFrame, which contain  presidents and addresses/dates. As a result, we could reproduced the specific results givien by the professor***\n",
    "\n",
    "\n",
    "\n"
   ]
  },
  {
   "cell_type": "code",
   "execution_count": 12,
   "metadata": {},
   "outputs": [
    {
     "data": {
      "text/html": [
       "<div>\n",
       "<style>\n",
       "    .dataframe thead tr:only-child th {\n",
       "        text-align: right;\n",
       "    }\n",
       "\n",
       "    .dataframe thead th {\n",
       "        text-align: left;\n",
       "    }\n",
       "\n",
       "    .dataframe tbody tr th {\n",
       "        vertical-align: top;\n",
       "    }\n",
       "</style>\n",
       "<table border=\"1\" class=\"dataframe\">\n",
       "  <thead>\n",
       "    <tr style=\"text-align: right;\">\n",
       "      <th></th>\n",
       "      <th>president</th>\n",
       "      <th>title</th>\n",
       "      <th>date</th>\n",
       "    </tr>\n",
       "  </thead>\n",
       "  <tbody>\n",
       "    <tr>\n",
       "      <th>0</th>\n",
       "      <td>George Washington</td>\n",
       "      <td>State of the Union Address</td>\n",
       "      <td>1790-01-08</td>\n",
       "    </tr>\n",
       "    <tr>\n",
       "      <th>1</th>\n",
       "      <td>George Washington</td>\n",
       "      <td>State of the Union Address</td>\n",
       "      <td>1790-12-08</td>\n",
       "    </tr>\n",
       "    <tr>\n",
       "      <th>2</th>\n",
       "      <td>George Washington</td>\n",
       "      <td>State of the Union Address</td>\n",
       "      <td>1791-10-25</td>\n",
       "    </tr>\n",
       "    <tr>\n",
       "      <th>3</th>\n",
       "      <td>George Washington</td>\n",
       "      <td>State of the Union Address</td>\n",
       "      <td>1792-11-06</td>\n",
       "    </tr>\n",
       "    <tr>\n",
       "      <th>4</th>\n",
       "      <td>George Washington</td>\n",
       "      <td>State of the Union Address</td>\n",
       "      <td>1793-12-03</td>\n",
       "    </tr>\n",
       "  </tbody>\n",
       "</table>\n",
       "</div>"
      ],
      "text/plain": [
       "             president                        title       date\n",
       "0    George Washington   State of the Union Address 1790-01-08\n",
       "1    George Washington   State of the Union Address 1790-12-08\n",
       "2    George Washington   State of the Union Address 1791-10-25\n",
       "3    George Washington   State of the Union Address 1792-11-06\n",
       "4    George Washington   State of the Union Address 1793-12-03"
      ]
     },
     "execution_count": 12,
     "metadata": {},
     "output_type": "execute_result"
    }
   ],
   "source": [
    "# Addresses is a dataframe with all the basic data for the addresses:\n",
    "from pandas import DataFrame\n",
    "import time\n",
    "\n",
    "with open('data/stateoftheunion1790-2017.txt','r') as f:\n",
    "    all=f.read()\n",
    "    speeches=all.split('***')\n",
    "speeches=speeches[1:]   \n",
    "\n",
    "raw=pd.read_csv('data/stateoftheunion1790-2017.txt',skiprows=9,nrows=227,names=['president','title','date',''],parse_dates=[[2,3]])\n",
    "addresses=DataFrame({'president':raw['president'],'title':raw['title'],'date':raw['date_']},columns=['president','title','date'])\n",
    "addresses.head()"
   ]
  },
  {
   "cell_type": "markdown",
   "metadata": {},
   "source": [
    "Let's take a first look at a high-level summary of what we have so far:"
   ]
  },
  {
   "cell_type": "code",
   "execution_count": 9,
   "metadata": {},
   "outputs": [
    {
     "data": {
      "text/plain": [
       "count                         227\n",
       "unique                         42\n",
       "top         Franklin D. Roosevelt\n",
       "freq                           12\n",
       "Name: president, dtype: object"
      ]
     },
     "execution_count": 9,
     "metadata": {},
     "output_type": "execute_result"
    }
   ],
   "source": [
    "addresses['president'].describe()\n",
    "# Describe the presidents data"
   ]
  },
  {
   "cell_type": "markdown",
   "metadata": {},
   "source": [
    "*** There are total of 227 State of Union address. There are only 42 unqiue address given by individual president, but the sitting presdient is our 45th presdient. After did some reseach, we find out why, and it is really interesting.***\n",
    "\n",
    "\n",
    "*** There are two presidents who never delivered an Annual Message or State of the Union Address. William Henry Harrison and James Garfield both died before they had the chance to deliver one, Harrison from pneumonia in 1841 and Garfield from an assassin’s bullet in 1881. ***\n",
    "\n",
    "*** Grover Cleveland stands alone in American history as the only President to serve non-consecutive terms. He was the the 22nd and 24th President of the United States. Due to this non-sonsecutive terms, he addresses only count as 1 unique address. (The inforamtion on second term of Presidnet Grove Cleveland(1893-1897) wasn't include in the txt)***\n",
    "\n",
    "***FDR war time president***\n",
    "\n",
    "*** As a result, there are 42 unique address, (45-2-1)= 42 unique address.*** \n",
    "\n",
    "***In another word, although the sitting president is our 45th president, there has only been 44 unique presidents in the history. Minus the 2 presdient who didn't deliever address, leave us 42 unique address***\n"
   ]
  },
  {
   "cell_type": "markdown",
   "metadata": {},
   "source": [
    "Let's find the dates of the first and last address, and how much time has passed between those:"
   ]
  },
  {
   "cell_type": "markdown",
   "metadata": {},
   "source": [
    "*** We use this bit of code to determine how much time has passed between those. We devided the total time by 365.25 because we need to take the year of LEAP YEAR into consideration.***"
   ]
  },
  {
   "cell_type": "code",
   "execution_count": 25,
   "metadata": {},
   "outputs": [
    {
     "data": {
      "text/plain": [
       "227.13210130047912"
      ]
     },
     "execution_count": 25,
     "metadata": {},
     "output_type": "execute_result"
    }
   ],
   "source": [
    "array=addresses['date']\n",
    "a=((max(array)-min(array))).days/365.25\n",
    "a"
   ]
  },
  {
   "cell_type": "markdown",
   "metadata": {},
   "source": [
    "Let's see during which months are the speeches most frequently delivered:"
   ]
  },
  {
   "cell_type": "code",
   "execution_count": 26,
   "metadata": {},
   "outputs": [
    {
     "data": {
      "text/plain": [
       "January       75\n",
       "February      12\n",
       "March          0\n",
       "April          0\n",
       "May            0\n",
       "June           0\n",
       "July           0\n",
       "August         0\n",
       "September      2\n",
       "October        3\n",
       "November      11\n",
       "December     124\n",
       "Name: Address counts, dtype: int64"
      ]
     },
     "execution_count": 26,
     "metadata": {},
     "output_type": "execute_result"
    }
   ],
   "source": [
    "# This is a count of the number of addresses delivered on any given month\n",
    "from datetime import *\n",
    "import time\n",
    "import calendar\n",
    "date=addresses['date']\n",
    "acounts = date.groupby([date.dt.month]).count().reindex([i for i in range(1,13)], fill_value=0)\n",
    "acounts = acounts.rename('Address counts')\n",
    "acounts.index=[calendar.month_name[i] for i in range(1,13)]\n",
    "acounts"
   ]
  },
  {
   "cell_type": "code",
   "execution_count": 32,
   "metadata": {},
   "outputs": [
    {
     "data": {
      "image/png": "[encoded data removed]",
      "text/plain": [
       "<matplotlib.figure.Figure at 0x1163fd358>"
      ]
     },
     "metadata": {},
     "output_type": "display_data"
    }
   ],
   "source": [
    "# And this is a plot of these:\n",
    "acounts.plot(kind='bar',grid=True,title='# of addresses per month',color='steelblue')\n",
    "plt.savefig('fig/addresses_month.png');"
   ]
  },
  {
   "cell_type": "markdown",
   "metadata": {},
   "source": [
    "*** We use the previous few blocks to summarize the distribution of speeches and we make a boxplot of the speeches timeline to visualize. ***\n",
    "\n",
    "***As tradition, the State of Union Addrress is usually about announcing achivment of the past and setting new goals for the futre. Therefore, the address happens mostly at the end of year in Nov and Dec or at the begining of the year, January or Feburary.***\n"
   ]
  },
  {
   "cell_type": "markdown",
   "metadata": {},
   "source": [
    "Let's look at the distribution of differences between successive speeches:"
   ]
  },
  {
   "cell_type": "markdown",
   "metadata": {},
   "source": [
    "Where is the largest gap? We can ask the `ddiff` series for its location:"
   ]
  },
  {
   "cell_type": "code",
   "execution_count": 35,
   "metadata": {},
   "outputs": [
    {
     "data": {
      "text/plain": [
       "104"
      ]
     },
     "execution_count": 35,
     "metadata": {},
     "output_type": "execute_result"
    }
   ],
   "source": [
    "# this is the index of the largest gap:\n",
    "from pandas import Series\n",
    "a=np.diff(addresses['date'])\n",
    "a=Series(a)\n",
    "a.index=np.arange(1,len(a)+1)\n",
    "max_interval=max(a)\n",
    "def look_up(a):\n",
    "    for i in np.arange(1,len(a)+1):\n",
    "        if a[i]==max_interval:\n",
    "            return i\n",
    "dgap=look_up(a)\n",
    "dgap"
   ]
  },
  {
   "cell_type": "markdown",
   "metadata": {},
   "source": [
    "*** The largest gap happpen at bewtenn index 103 and index 104. The full explaination is given below ***"
   ]
  },
  {
   "cell_type": "markdown",
   "metadata": {},
   "source": [
    "Let's look at the dates around this index:"
   ]
  },
  {
   "cell_type": "code",
   "execution_count": 36,
   "metadata": {},
   "outputs": [
    {
     "data": {
      "text/plain": [
       "102   1891-12-09\n",
       "103   1892-12-06\n",
       "104   1897-12-06\n",
       "105   1898-12-05\n",
       "Name: date, dtype: datetime64[ns]"
      ]
     },
     "execution_count": 36,
     "metadata": {},
     "output_type": "execute_result"
    }
   ],
   "source": [
    "dates=addresses['date']\n",
    "dates[dgap-2 : dgap+2]"
   ]
  },
  {
   "cell_type": "markdown",
   "metadata": {},
   "source": [
    "As well as a plot of these times:"
   ]
  },
  {
   "cell_type": "code",
   "execution_count": 37,
   "metadata": {},
   "outputs": [
    {
     "data": {
      "image/png": "[encoded data removed]",
      "text/plain": [
       "<matplotlib.figure.Figure at 0x1164291d0>"
      ]
     },
     "metadata": {},
     "output_type": "display_data"
    }
   ],
   "source": [
    "# A plot of the times, along with 'rug' markers on the x axis.\n",
    "Date=addresses['date'].dt.year\n",
    "f,axarr=plt.subplots(1,sharex=True)\n",
    "sns.distplot(Date,rug=True,hist=False,kde=False,color='r')\n",
    "#sns.rugplot(Date)\n",
    "axarr.plot(Date,Date.index)\n",
    "plt.grid()\n",
    "plt.xlabel('Date')\n",
    "plt.ylabel('Speech Number')\n",
    "plt.title('Timeline of State of the Union Addresses')\n",
    "plt.xticks(np.arange(1808,2009,40))\n",
    "f.savefig('fig/timeline.png')"
   ]
  },
  {
   "cell_type": "markdown",
   "metadata": {},
   "source": [
    "What happened at that gap?\n",
    "\n",
    "*** As I mention before, Grover Cleveland stands alone in American history as the only President to serve non-consecutive terms. This situation creates some confusion for the data set since his inforamtion on second term of Presidnet Grove Cleveland(1893-1897) wasn't include in the txt. ***\n",
    "\n",
    "***The address of index 103 is the President Benjamin Harrison last address on 1892, and the address of index 104 is Presient William McKinley firest address on 1898. President Gover Cleveland second term is from 1893 to 1897, which is skipped in the data txt. ***\n",
    "\n",
    "*** This is why there is large gap at that time ***\n"
   ]
  },
  {
   "cell_type": "markdown",
   "metadata": {},
   "source": [
    "## Intermediate results\n",
    "\n",
    "Let's save some intermediate results for further analysis. This lets us work on subsequent notebooks  without rerunning this one.  We use the Pandas HDF5 support for efficient and type-safe serialization of data frames, and the python builtin [shelve](https://docs.python.org/3/library/shelve.html) module for simple Python variables.  We'll create for each notebook variable stores with the notebook number, one for dataframes (`df1.h5`, `df2.h5`, etc.) and one for python variables (`vars1.db`, `vars2.db`, etc.).  These will all go into the `results/` subdirectory."
   ]
  },
  {
   "cell_type": "code",
   "execution_count": 10,
   "metadata": {
    "collapsed": true
   },
   "outputs": [],
   "source": [
    "addresses.to_hdf('results/df1.h5', 'addresses')\n",
    "with shelve.open('results/vars1') as db:\n",
    "    db['speeches'] = speeches"
   ]
  },
  {
   "cell_type": "code",
   "execution_count": null,
   "metadata": {
    "collapsed": true
   },
   "outputs": [],
   "source": []
  }
 ],
 "metadata": {
  "kernelspec": {
   "display_name": "Python 3",
   "language": "python",
   "name": "python3"
  },
  "language_info": {
   "codemirror_mode": {
    "name": "ipython",
    "version": 3
   },
   "file_extension": ".py",
   "mimetype": "text/x-python",
   "name": "python",
   "nbconvert_exporter": "python",
   "pygments_lexer": "ipython3",
   "version": "3.6.2"
  }
 },
 "nbformat": 4,
 "nbformat_minor": 2
}
