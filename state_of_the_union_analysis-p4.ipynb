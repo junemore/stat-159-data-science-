{
 "cells": [
  {
   "cell_type": "markdown",
   "metadata": {},
   "source": [
    "# An analysis of the State of the Union speeches - Part 4"
   ]
  },
  {
   "cell_type": "code",
   "execution_count": 1,
   "metadata": {
    "collapsed": true
   },
   "outputs": [],
   "source": [
    "%matplotlib inline\n",
    "import matplotlib.pyplot as plt\n",
    "import numpy as np\n",
    "import pandas as pd\n",
    "import seaborn as sns\n",
    "\n",
    "from collections import Counter\n",
    "import shelve\n",
    "sns.set_style('whitegrid')\n",
    "plt.style.use('seaborn-dark')\n",
    "plt.rcParams['figure.figsize'] = (10, 6)"
   ]
  },
  {
   "cell_type": "markdown",
   "metadata": {},
   "source": [
    "Again, load data we need from previous parts without redoing that work."
   ]
  },
  {
   "cell_type": "markdown",
   "metadata": {},
   "source": [
    "## Distance between speeches\n",
    "\n",
    "### By President\n",
    "\n",
    "Let's first compute a few useful things we'll need later, like the unique set of all presidents and their initials (for plot labeling)."
   ]
  },
  {
   "cell_type": "markdown",
   "metadata": {},
   "source": [
    "Now, make a dataframe that will contain the word counts aggregated by president:"
   ]
  },
  {
   "cell_type": "code",
   "execution_count": 2,
   "metadata": {},
   "outputs": [
    {
     "data": {
      "text/html": [
       "<div>\n",
       "<style scoped>\n",
       "    .dataframe tbody tr th:only-of-type {\n",
       "        vertical-align: middle;\n",
       "    }\n",
       "\n",
       "    .dataframe tbody tr th {\n",
       "        vertical-align: top;\n",
       "    }\n",
       "\n",
       "    .dataframe thead th {\n",
       "        text-align: right;\n",
       "    }\n",
       "</style>\n",
       "<table border=\"1\" class=\"dataframe\">\n",
       "  <thead>\n",
       "    <tr style=\"text-align: right;\">\n",
       "      <th></th>\n",
       "      <th>George Washington</th>\n",
       "      <th>John Adams</th>\n",
       "      <th>Thomas Jefferson</th>\n",
       "      <th>James Madison</th>\n",
       "      <th>James Monroe</th>\n",
       "      <th>John Quincy Adams</th>\n",
       "      <th>Andrew Jackson</th>\n",
       "      <th>Martin van Buren</th>\n",
       "      <th>John Tyler</th>\n",
       "      <th>James Polk</th>\n",
       "      <th>...</th>\n",
       "      <th>Lyndon B. Johnson</th>\n",
       "      <th>Richard Nixon</th>\n",
       "      <th>Gerald R. Ford</th>\n",
       "      <th>Jimmy Carter</th>\n",
       "      <th>Ronald Reagan</th>\n",
       "      <th>George H.W. Bush</th>\n",
       "      <th>William J. Clinton</th>\n",
       "      <th>George W. Bush</th>\n",
       "      <th>Barack Obama</th>\n",
       "      <th>Donald J. Trump</th>\n",
       "    </tr>\n",
       "  </thead>\n",
       "  <tbody>\n",
       "    <tr>\n",
       "      <th>''</th>\n",
       "      <td>3</td>\n",
       "      <td>6</td>\n",
       "      <td>4</td>\n",
       "      <td>8</td>\n",
       "      <td>4</td>\n",
       "      <td>1</td>\n",
       "      <td>1</td>\n",
       "      <td>1</td>\n",
       "      <td>5</td>\n",
       "      <td>11</td>\n",
       "      <td>...</td>\n",
       "      <td>4</td>\n",
       "      <td>8</td>\n",
       "      <td>0</td>\n",
       "      <td>8</td>\n",
       "      <td>1</td>\n",
       "      <td>4</td>\n",
       "      <td>7</td>\n",
       "      <td>4</td>\n",
       "      <td>6</td>\n",
       "      <td>1</td>\n",
       "    </tr>\n",
       "    <tr>\n",
       "      <th>'d</th>\n",
       "      <td>0</td>\n",
       "      <td>0</td>\n",
       "      <td>0</td>\n",
       "      <td>6</td>\n",
       "      <td>0</td>\n",
       "      <td>0</td>\n",
       "      <td>0</td>\n",
       "      <td>0</td>\n",
       "      <td>0</td>\n",
       "      <td>0</td>\n",
       "      <td>...</td>\n",
       "      <td>0</td>\n",
       "      <td>0</td>\n",
       "      <td>0</td>\n",
       "      <td>0</td>\n",
       "      <td>0</td>\n",
       "      <td>0</td>\n",
       "      <td>7</td>\n",
       "      <td>0</td>\n",
       "      <td>1</td>\n",
       "      <td>0</td>\n",
       "    </tr>\n",
       "    <tr>\n",
       "      <th>'m</th>\n",
       "      <td>0</td>\n",
       "      <td>0</td>\n",
       "      <td>0</td>\n",
       "      <td>8</td>\n",
       "      <td>0</td>\n",
       "      <td>0</td>\n",
       "      <td>0</td>\n",
       "      <td>0</td>\n",
       "      <td>0</td>\n",
       "      <td>0</td>\n",
       "      <td>...</td>\n",
       "      <td>0</td>\n",
       "      <td>0</td>\n",
       "      <td>0</td>\n",
       "      <td>0</td>\n",
       "      <td>0</td>\n",
       "      <td>0</td>\n",
       "      <td>5</td>\n",
       "      <td>0</td>\n",
       "      <td>0</td>\n",
       "      <td>0</td>\n",
       "    </tr>\n",
       "    <tr>\n",
       "      <th>'s</th>\n",
       "      <td>4</td>\n",
       "      <td>5</td>\n",
       "      <td>3</td>\n",
       "      <td>8</td>\n",
       "      <td>4</td>\n",
       "      <td>4</td>\n",
       "      <td>3</td>\n",
       "      <td>1</td>\n",
       "      <td>9</td>\n",
       "      <td>10</td>\n",
       "      <td>...</td>\n",
       "      <td>1</td>\n",
       "      <td>8</td>\n",
       "      <td>2</td>\n",
       "      <td>8</td>\n",
       "      <td>2</td>\n",
       "      <td>4</td>\n",
       "      <td>8</td>\n",
       "      <td>4</td>\n",
       "      <td>8</td>\n",
       "      <td>0</td>\n",
       "    </tr>\n",
       "    <tr>\n",
       "      <th>,1892</th>\n",
       "      <td>0</td>\n",
       "      <td>0</td>\n",
       "      <td>0</td>\n",
       "      <td>0</td>\n",
       "      <td>1</td>\n",
       "      <td>0</td>\n",
       "      <td>0</td>\n",
       "      <td>0</td>\n",
       "      <td>0</td>\n",
       "      <td>0</td>\n",
       "      <td>...</td>\n",
       "      <td>0</td>\n",
       "      <td>0</td>\n",
       "      <td>0</td>\n",
       "      <td>0</td>\n",
       "      <td>0</td>\n",
       "      <td>0</td>\n",
       "      <td>0</td>\n",
       "      <td>0</td>\n",
       "      <td>0</td>\n",
       "      <td>0</td>\n",
       "    </tr>\n",
       "  </tbody>\n",
       "</table>\n",
       "<p>5 rows × 42 columns</p>\n",
       "</div>"
      ],
      "text/plain": [
       "         George Washington    John Adams    Thomas Jefferson    James Madison  \\\n",
       "''                       3             6                   4                8   \n",
       "'d                       0             0                   0                6   \n",
       "'m                       0             0                   0                8   \n",
       "'s                       4             5                   3                8   \n",
       ",1892                    0             0                   0                0   \n",
       "\n",
       "         James Monroe    John Quincy Adams    Andrew Jackson  \\\n",
       "''                  4                    1                 1   \n",
       "'d                  0                    0                 0   \n",
       "'m                  0                    0                 0   \n",
       "'s                  4                    4                 3   \n",
       ",1892               1                    0                 0   \n",
       "\n",
       "         Martin van Buren    John Tyler    James Polk        ...          \\\n",
       "''                      1             5            11        ...           \n",
       "'d                      0             0             0        ...           \n",
       "'m                      0             0             0        ...           \n",
       "'s                      1             9            10        ...           \n",
       ",1892                   0             0             0        ...           \n",
       "\n",
       "         Lyndon B. Johnson    Richard Nixon    Gerald R. Ford    Jimmy Carter  \\\n",
       "''                       4                8                 0               8   \n",
       "'d                       0                0                 0               0   \n",
       "'m                       0                0                 0               0   \n",
       "'s                       1                8                 2               8   \n",
       ",1892                    0                0                 0               0   \n",
       "\n",
       "         Ronald Reagan    George H.W. Bush    William J. Clinton  \\\n",
       "''                   1                   4                     7   \n",
       "'d                   0                   0                     7   \n",
       "'m                   0                   0                     5   \n",
       "'s                   2                   4                     8   \n",
       ",1892                0                   0                     0   \n",
       "\n",
       "         George W. Bush    Barack Obama    Donald J. Trump  \n",
       "''                    4               6                  1  \n",
       "'d                    0               1                  0  \n",
       "'m                    0               0                  0  \n",
       "'s                    4               8                  0  \n",
       ",1892                 0               0                  0  \n",
       "\n",
       "[5 rows x 42 columns]"
      ]
     },
     "execution_count": 2,
     "metadata": {},
     "output_type": "execute_result"
    }
   ],
   "source": [
    "# YOUR CODE HERE\n",
    "wmat = pd.read_hdf('results/df3.h5', 'wmat')\n",
    "addresses = pd.read_hdf('results/df1.h5', 'addresses')\n",
    "#wmat.names=pd.DataFrame(data=wmat,columns=addresses['president'])\n",
    "wmat.columns=addresses['president']\n",
    "key1=Counter(addresses['president']).keys()\n",
    "pres_mat=wmat.groupby(wmat.columns,axis=1).sum()                                                                                                                                                                                       \n",
    "pres_mat.columns=key1\n",
    "pres_mat.head()"
   ]
  },
  {
   "cell_type": "markdown",
   "metadata": {},
   "source": [
    "And `pmn` is a normalized version that turns counts into probability distributions:"
   ]
  },
  {
   "cell_type": "code",
   "execution_count": 3,
   "metadata": {},
   "outputs": [
    {
     "data": {
      "text/html": [
       "<div>\n",
       "<style scoped>\n",
       "    .dataframe tbody tr th:only-of-type {\n",
       "        vertical-align: middle;\n",
       "    }\n",
       "\n",
       "    .dataframe tbody tr th {\n",
       "        vertical-align: top;\n",
       "    }\n",
       "\n",
       "    .dataframe thead th {\n",
       "        text-align: right;\n",
       "    }\n",
       "</style>\n",
       "<table border=\"1\" class=\"dataframe\">\n",
       "  <thead>\n",
       "    <tr style=\"text-align: right;\">\n",
       "      <th></th>\n",
       "      <th>George Washington</th>\n",
       "      <th>John Adams</th>\n",
       "      <th>Thomas Jefferson</th>\n",
       "      <th>James Madison</th>\n",
       "      <th>James Monroe</th>\n",
       "      <th>John Quincy Adams</th>\n",
       "      <th>Andrew Jackson</th>\n",
       "      <th>Martin van Buren</th>\n",
       "      <th>John Tyler</th>\n",
       "      <th>James Polk</th>\n",
       "      <th>...</th>\n",
       "      <th>Lyndon B. Johnson</th>\n",
       "      <th>Richard Nixon</th>\n",
       "      <th>Gerald R. Ford</th>\n",
       "      <th>Jimmy Carter</th>\n",
       "      <th>Ronald Reagan</th>\n",
       "      <th>George H.W. Bush</th>\n",
       "      <th>William J. Clinton</th>\n",
       "      <th>George W. Bush</th>\n",
       "      <th>Barack Obama</th>\n",
       "      <th>Donald J. Trump</th>\n",
       "    </tr>\n",
       "  </thead>\n",
       "  <tbody>\n",
       "    <tr>\n",
       "      <th>0</th>\n",
       "      <td>0.000551</td>\n",
       "      <td>0.000497</td>\n",
       "      <td>0.000616</td>\n",
       "      <td>0.000748</td>\n",
       "      <td>0.000510</td>\n",
       "      <td>0.000115</td>\n",
       "      <td>0.000216</td>\n",
       "      <td>0.00082</td>\n",
       "      <td>0.000441</td>\n",
       "      <td>0.001004</td>\n",
       "      <td>...</td>\n",
       "      <td>0.000691</td>\n",
       "      <td>0.00043</td>\n",
       "      <td>0.000000</td>\n",
       "      <td>0.000708</td>\n",
       "      <td>0.000418</td>\n",
       "      <td>0.000482</td>\n",
       "      <td>0.000665</td>\n",
       "      <td>0.000426</td>\n",
       "      <td>0.000836</td>\n",
       "      <td>0.000759</td>\n",
       "    </tr>\n",
       "    <tr>\n",
       "      <th>1</th>\n",
       "      <td>0.000000</td>\n",
       "      <td>0.000000</td>\n",
       "      <td>0.000000</td>\n",
       "      <td>0.000561</td>\n",
       "      <td>0.000000</td>\n",
       "      <td>0.000000</td>\n",
       "      <td>0.000000</td>\n",
       "      <td>0.00000</td>\n",
       "      <td>0.000000</td>\n",
       "      <td>0.000000</td>\n",
       "      <td>...</td>\n",
       "      <td>0.000000</td>\n",
       "      <td>0.00000</td>\n",
       "      <td>0.000000</td>\n",
       "      <td>0.000000</td>\n",
       "      <td>0.000000</td>\n",
       "      <td>0.000000</td>\n",
       "      <td>0.000665</td>\n",
       "      <td>0.000000</td>\n",
       "      <td>0.000139</td>\n",
       "      <td>0.000000</td>\n",
       "    </tr>\n",
       "    <tr>\n",
       "      <th>2</th>\n",
       "      <td>0.000000</td>\n",
       "      <td>0.000000</td>\n",
       "      <td>0.000000</td>\n",
       "      <td>0.000748</td>\n",
       "      <td>0.000000</td>\n",
       "      <td>0.000000</td>\n",
       "      <td>0.000000</td>\n",
       "      <td>0.00000</td>\n",
       "      <td>0.000000</td>\n",
       "      <td>0.000000</td>\n",
       "      <td>...</td>\n",
       "      <td>0.000000</td>\n",
       "      <td>0.00000</td>\n",
       "      <td>0.000000</td>\n",
       "      <td>0.000000</td>\n",
       "      <td>0.000000</td>\n",
       "      <td>0.000000</td>\n",
       "      <td>0.000475</td>\n",
       "      <td>0.000000</td>\n",
       "      <td>0.000000</td>\n",
       "      <td>0.000000</td>\n",
       "    </tr>\n",
       "    <tr>\n",
       "      <th>3</th>\n",
       "      <td>0.000735</td>\n",
       "      <td>0.000414</td>\n",
       "      <td>0.000462</td>\n",
       "      <td>0.000748</td>\n",
       "      <td>0.000510</td>\n",
       "      <td>0.000460</td>\n",
       "      <td>0.000649</td>\n",
       "      <td>0.00082</td>\n",
       "      <td>0.000794</td>\n",
       "      <td>0.000913</td>\n",
       "      <td>...</td>\n",
       "      <td>0.000173</td>\n",
       "      <td>0.00043</td>\n",
       "      <td>0.000364</td>\n",
       "      <td>0.000708</td>\n",
       "      <td>0.000836</td>\n",
       "      <td>0.000482</td>\n",
       "      <td>0.000760</td>\n",
       "      <td>0.000426</td>\n",
       "      <td>0.001115</td>\n",
       "      <td>0.000000</td>\n",
       "    </tr>\n",
       "    <tr>\n",
       "      <th>4</th>\n",
       "      <td>0.000000</td>\n",
       "      <td>0.000000</td>\n",
       "      <td>0.000000</td>\n",
       "      <td>0.000000</td>\n",
       "      <td>0.000127</td>\n",
       "      <td>0.000000</td>\n",
       "      <td>0.000000</td>\n",
       "      <td>0.00000</td>\n",
       "      <td>0.000000</td>\n",
       "      <td>0.000000</td>\n",
       "      <td>...</td>\n",
       "      <td>0.000000</td>\n",
       "      <td>0.00000</td>\n",
       "      <td>0.000000</td>\n",
       "      <td>0.000000</td>\n",
       "      <td>0.000000</td>\n",
       "      <td>0.000000</td>\n",
       "      <td>0.000000</td>\n",
       "      <td>0.000000</td>\n",
       "      <td>0.000000</td>\n",
       "      <td>0.000000</td>\n",
       "    </tr>\n",
       "  </tbody>\n",
       "</table>\n",
       "<p>5 rows × 42 columns</p>\n",
       "</div>"
      ],
      "text/plain": [
       "     George Washington    John Adams    Thomas Jefferson    James Madison  \\\n",
       "0             0.000551      0.000497            0.000616         0.000748   \n",
       "1             0.000000      0.000000            0.000000         0.000561   \n",
       "2             0.000000      0.000000            0.000000         0.000748   \n",
       "3             0.000735      0.000414            0.000462         0.000748   \n",
       "4             0.000000      0.000000            0.000000         0.000000   \n",
       "\n",
       "     James Monroe    John Quincy Adams    Andrew Jackson    Martin van Buren  \\\n",
       "0        0.000510             0.000115          0.000216             0.00082   \n",
       "1        0.000000             0.000000          0.000000             0.00000   \n",
       "2        0.000000             0.000000          0.000000             0.00000   \n",
       "3        0.000510             0.000460          0.000649             0.00082   \n",
       "4        0.000127             0.000000          0.000000             0.00000   \n",
       "\n",
       "     John Tyler    James Polk        ...            Lyndon B. Johnson  \\\n",
       "0      0.000441      0.001004        ...                     0.000691   \n",
       "1      0.000000      0.000000        ...                     0.000000   \n",
       "2      0.000000      0.000000        ...                     0.000000   \n",
       "3      0.000794      0.000913        ...                     0.000173   \n",
       "4      0.000000      0.000000        ...                     0.000000   \n",
       "\n",
       "     Richard Nixon    Gerald R. Ford    Jimmy Carter    Ronald Reagan  \\\n",
       "0          0.00043          0.000000        0.000708         0.000418   \n",
       "1          0.00000          0.000000        0.000000         0.000000   \n",
       "2          0.00000          0.000000        0.000000         0.000000   \n",
       "3          0.00043          0.000364        0.000708         0.000836   \n",
       "4          0.00000          0.000000        0.000000         0.000000   \n",
       "\n",
       "     George H.W. Bush    William J. Clinton    George W. Bush    Barack Obama  \\\n",
       "0            0.000482              0.000665          0.000426        0.000836   \n",
       "1            0.000000              0.000665          0.000000        0.000139   \n",
       "2            0.000000              0.000475          0.000000        0.000000   \n",
       "3            0.000482              0.000760          0.000426        0.001115   \n",
       "4            0.000000              0.000000          0.000000        0.000000   \n",
       "\n",
       "     Donald J. Trump  \n",
       "0           0.000759  \n",
       "1           0.000000  \n",
       "2           0.000000  \n",
       "3           0.000000  \n",
       "4           0.000000  \n",
       "\n",
       "[5 rows x 42 columns]"
      ]
     },
     "execution_count": 3,
     "metadata": {},
     "output_type": "execute_result"
    }
   ],
   "source": [
    "value=pres_mat.iloc[:,:].values\n",
    "value=value/value.sum(0,keepdims=True)\n",
    "pmn=pd.DataFrame(np.array(value),columns=key1)\n",
    "pmn.head()"
   ]
  },
  {
   "cell_type": "markdown",
   "metadata": {},
   "source": [
    "Sanity check: all columns should sum to 1."
   ]
  },
  {
   "cell_type": "code",
   "execution_count": 4,
   "metadata": {},
   "outputs": [
    {
     "data": {
      "text/plain": [
       "  George Washington        1.0\n",
       "  John Adams               1.0\n",
       "  Thomas Jefferson         1.0\n",
       "  James Madison            1.0\n",
       "  James Monroe             1.0\n",
       "  John Quincy Adams        1.0\n",
       "  Andrew Jackson           1.0\n",
       "  Martin van Buren         1.0\n",
       "  John Tyler               1.0\n",
       "  James Polk               1.0\n",
       "  Zachary Taylor           1.0\n",
       "  Millard Fillmore         1.0\n",
       "  Franklin Pierce          1.0\n",
       "  James Buchanan           1.0\n",
       "  Abraham Lincoln          1.0\n",
       "  Andrew Johnson           1.0\n",
       "  Ulysses S. Grant         1.0\n",
       "  Rutherford B. Hayes      1.0\n",
       "  Chester A. Arthur        1.0\n",
       "  Grover Cleveland         1.0\n",
       "  Benjamin Harrison        1.0\n",
       "  William McKinley         1.0\n",
       "  Theodore Roosevelt       1.0\n",
       "  William H. Taft          1.0\n",
       "  Woodrow Wilson           1.0\n",
       "  Warren Harding           1.0\n",
       "  Calvin Coolidge          1.0\n",
       "  Herbert Hoover           1.0\n",
       "  Franklin D. Roosevelt    1.0\n",
       "  Harry S. Truman          1.0\n",
       "  Dwight D. Eisenhower     1.0\n",
       "  John F. Kennedy          1.0\n",
       "  Lyndon B. Johnson        1.0\n",
       "  Richard Nixon            1.0\n",
       "  Gerald R. Ford           1.0\n",
       "  Jimmy Carter             1.0\n",
       "  Ronald Reagan            1.0\n",
       "  George H.W. Bush         1.0\n",
       "  William J. Clinton       1.0\n",
       "  George W. Bush           1.0\n",
       "  Barack Obama             1.0\n",
       "  Donald J. Trump          1.0\n",
       "dtype: float64"
      ]
     },
     "execution_count": 4,
     "metadata": {},
     "output_type": "execute_result"
    }
   ],
   "source": [
    "pmn.sum()"
   ]
  },
  {
   "cell_type": "markdown",
   "metadata": {},
   "source": [
    "Make a numpy array version to use with Scikit-Learn:"
   ]
  },
  {
   "cell_type": "code",
   "execution_count": 5,
   "metadata": {},
   "outputs": [
    {
     "data": {
      "text/plain": [
       "(18797, 42)"
      ]
     },
     "execution_count": 5,
     "metadata": {},
     "output_type": "execute_result"
    }
   ],
   "source": [
    "# YOUR CODE HERE\n",
    "pmn.shape"
   ]
  },
  {
   "cell_type": "markdown",
   "metadata": {},
   "source": [
    "You can use the JSdiv function below as-is, it already works."
   ]
  },
  {
   "cell_type": "code",
   "execution_count": 6,
   "metadata": {
    "collapsed": true
   },
   "outputs": [],
   "source": [
    "from scipy.stats import entropy\n",
    "\n",
    "def JSdiv(p, q):\n",
    "    \"\"\"Jensen-Shannon divergence.\n",
    "    \n",
    "    Compute the J-S divergence between two discrete probability distributions.\n",
    "    \n",
    "    Parameters\n",
    "    ----------\n",
    "    \n",
    "    p, q : array\n",
    "        Both p and q should be one-dimensional arrays that can be interpreted as discrete\n",
    "        probability distributions (i.e. sum(p) == 1; this condition is not checked).\n",
    "        \n",
    "    Returns\n",
    "    -------\n",
    "    float\n",
    "        The J-S divergence, computed using the scipy entropy function (with base 2) for\n",
    "        the Kullback-Leibler divergence.\n",
    "    \"\"\"\n",
    "    m = (p + q) / 2\n",
    "    return (entropy(p, m, base=2.0) + entropy(q, m, base=2.0)) / 2"
   ]
  },
  {
   "cell_type": "markdown",
   "metadata": {},
   "source": [
    "This is a \"naive\" plot where we use the $L^2$ distance to build the embedding."
   ]
  },
  {
   "cell_type": "code",
   "execution_count": 7,
   "metadata": {},
   "outputs": [
    {
     "ename": "TypeError",
     "evalue": "'str' object cannot be interpreted as an integer",
     "output_type": "error",
     "traceback": [
      "\u001b[0;31m---------------------------------------------------------------------------\u001b[0m",
      "\u001b[0;31mTypeError\u001b[0m                                 Traceback (most recent call last)",
      "\u001b[0;32m<ipython-input-7-753537f0274a>\u001b[0m in \u001b[0;36m<module>\u001b[0;34m()\u001b[0m\n\u001b[1;32m      2\u001b[0m \u001b[0mpmn\u001b[0m\u001b[0;34m=\u001b[0m\u001b[0mpmn\u001b[0m\u001b[0;34m.\u001b[0m\u001b[0mas_matrix\u001b[0m\u001b[0;34m(\u001b[0m\u001b[0;34m)\u001b[0m\u001b[0;34m\u001b[0m\u001b[0m\n\u001b[1;32m      3\u001b[0m \u001b[0mMDS\u001b[0m\u001b[0;34m=\u001b[0m\u001b[0mMDS\u001b[0m\u001b[0;34m(\u001b[0m\u001b[0;34m'precomputed'\u001b[0m\u001b[0;34m)\u001b[0m\u001b[0;34m\u001b[0m\u001b[0m\n\u001b[0;32m----> 4\u001b[0;31m \u001b[0mlower_naive\u001b[0m\u001b[0;34m=\u001b[0m\u001b[0mMDS\u001b[0m\u001b[0;34m.\u001b[0m\u001b[0mfit_transform\u001b[0m\u001b[0;34m(\u001b[0m\u001b[0mpmn\u001b[0m\u001b[0;34m)\u001b[0m\u001b[0;34m\u001b[0m\u001b[0m\n\u001b[0m\u001b[1;32m      5\u001b[0m \u001b[0mlower_df\u001b[0m\u001b[0;34m=\u001b[0m\u001b[0mpd\u001b[0m\u001b[0;34m.\u001b[0m\u001b[0mDataFrame\u001b[0m\u001b[0;34m(\u001b[0m\u001b[0;34m{\u001b[0m\u001b[0;34m'x_naive'\u001b[0m\u001b[0;34m:\u001b[0m\u001b[0mlower_naive\u001b[0m\u001b[0;34m[\u001b[0m\u001b[0;34m:\u001b[0m\u001b[0;34m,\u001b[0m\u001b[0;36m0\u001b[0m\u001b[0;34m]\u001b[0m\u001b[0;34m,\u001b[0m\u001b[0;34m'y_naive'\u001b[0m\u001b[0;34m:\u001b[0m\u001b[0mlower_naive\u001b[0m\u001b[0;34m[\u001b[0m\u001b[0;34m:\u001b[0m\u001b[0;34m,\u001b[0m\u001b[0;36m1\u001b[0m\u001b[0;34m]\u001b[0m\u001b[0;34m,\u001b[0m\u001b[0;34m'President'\u001b[0m\u001b[0;34m:\u001b[0m\u001b[0mlist\u001b[0m\u001b[0;34m(\u001b[0m\u001b[0mCounter\u001b[0m\u001b[0;34m(\u001b[0m\u001b[0maddresses\u001b[0m\u001b[0;34m[\u001b[0m\u001b[0;34m'president'\u001b[0m\u001b[0;34m]\u001b[0m\u001b[0;34m)\u001b[0m\u001b[0;34m.\u001b[0m\u001b[0mkeys\u001b[0m\u001b[0;34m(\u001b[0m\u001b[0;34m)\u001b[0m\u001b[0;34m)\u001b[0m\u001b[0;34m}\u001b[0m\u001b[0;34m)\u001b[0m\u001b[0;34m\u001b[0m\u001b[0m\n\u001b[1;32m      6\u001b[0m \u001b[0msns\u001b[0m\u001b[0;34m.\u001b[0m\u001b[0mlmplot\u001b[0m\u001b[0;34m(\u001b[0m\u001b[0mlower_df\u001b[0m\u001b[0;34m[\u001b[0m\u001b[0;34m'x_naive'\u001b[0m\u001b[0;34m]\u001b[0m\u001b[0;34m,\u001b[0m\u001b[0mlower_df\u001b[0m\u001b[0;34m[\u001b[0m\u001b[0;34m'y_naive'\u001b[0m\u001b[0;34m]\u001b[0m\u001b[0;34m,\u001b[0m\u001b[0mlower_df\u001b[0m\u001b[0;34m,\u001b[0m\u001b[0mhue\u001b[0m\u001b[0;34m=\u001b[0m\u001b[0mlower_df\u001b[0m\u001b[0;34m[\u001b[0m\u001b[0;34m'President'\u001b[0m\u001b[0;34m]\u001b[0m\u001b[0;34m,\u001b[0m\u001b[0mmarkers\u001b[0m\u001b[0;34m=\u001b[0m\u001b[0mlower_df\u001b[0m\u001b[0;34m[\u001b[0m\u001b[0;34m'President'\u001b[0m\u001b[0;34m]\u001b[0m\u001b[0;34m,\u001b[0m\u001b[0mpalette\u001b[0m\u001b[0;34m=\u001b[0m\u001b[0;34m'blue'\u001b[0m\u001b[0;34m)\u001b[0m\u001b[0;34m\u001b[0m\u001b[0m\n",
      "\u001b[0;32m/anaconda3/lib/python3.6/site-packages/sklearn/manifold/mds.py\u001b[0m in \u001b[0;36mfit_transform\u001b[0;34m(self, X, y, init)\u001b[0m\n\u001b[1;32m    423\u001b[0m             \u001b[0mn_jobs\u001b[0m\u001b[0;34m=\u001b[0m\u001b[0mself\u001b[0m\u001b[0;34m.\u001b[0m\u001b[0mn_jobs\u001b[0m\u001b[0;34m,\u001b[0m \u001b[0mmax_iter\u001b[0m\u001b[0;34m=\u001b[0m\u001b[0mself\u001b[0m\u001b[0;34m.\u001b[0m\u001b[0mmax_iter\u001b[0m\u001b[0;34m,\u001b[0m \u001b[0mverbose\u001b[0m\u001b[0;34m=\u001b[0m\u001b[0mself\u001b[0m\u001b[0;34m.\u001b[0m\u001b[0mverbose\u001b[0m\u001b[0;34m,\u001b[0m\u001b[0;34m\u001b[0m\u001b[0m\n\u001b[1;32m    424\u001b[0m             \u001b[0meps\u001b[0m\u001b[0;34m=\u001b[0m\u001b[0mself\u001b[0m\u001b[0;34m.\u001b[0m\u001b[0meps\u001b[0m\u001b[0;34m,\u001b[0m \u001b[0mrandom_state\u001b[0m\u001b[0;34m=\u001b[0m\u001b[0mself\u001b[0m\u001b[0;34m.\u001b[0m\u001b[0mrandom_state\u001b[0m\u001b[0;34m,\u001b[0m\u001b[0;34m\u001b[0m\u001b[0m\n\u001b[0;32m--> 425\u001b[0;31m             return_n_iter=True)\n\u001b[0m\u001b[1;32m    426\u001b[0m \u001b[0;34m\u001b[0m\u001b[0m\n\u001b[1;32m    427\u001b[0m         \u001b[0;32mreturn\u001b[0m \u001b[0mself\u001b[0m\u001b[0;34m.\u001b[0m\u001b[0membedding_\u001b[0m\u001b[0;34m\u001b[0m\u001b[0m\n",
      "\u001b[0;32m/anaconda3/lib/python3.6/site-packages/sklearn/manifold/mds.py\u001b[0m in \u001b[0;36msmacof\u001b[0;34m(dissimilarities, metric, n_components, init, n_init, n_jobs, max_iter, verbose, eps, random_state, return_n_iter)\u001b[0m\n\u001b[1;32m    252\u001b[0m                 \u001b[0mn_components\u001b[0m\u001b[0;34m=\u001b[0m\u001b[0mn_components\u001b[0m\u001b[0;34m,\u001b[0m \u001b[0minit\u001b[0m\u001b[0;34m=\u001b[0m\u001b[0minit\u001b[0m\u001b[0;34m,\u001b[0m\u001b[0;34m\u001b[0m\u001b[0m\n\u001b[1;32m    253\u001b[0m                 \u001b[0mmax_iter\u001b[0m\u001b[0;34m=\u001b[0m\u001b[0mmax_iter\u001b[0m\u001b[0;34m,\u001b[0m \u001b[0mverbose\u001b[0m\u001b[0;34m=\u001b[0m\u001b[0mverbose\u001b[0m\u001b[0;34m,\u001b[0m\u001b[0;34m\u001b[0m\u001b[0m\n\u001b[0;32m--> 254\u001b[0;31m                 eps=eps, random_state=random_state)\n\u001b[0m\u001b[1;32m    255\u001b[0m             \u001b[0;32mif\u001b[0m \u001b[0mbest_stress\u001b[0m \u001b[0;32mis\u001b[0m \u001b[0;32mNone\u001b[0m \u001b[0;32mor\u001b[0m \u001b[0mstress\u001b[0m \u001b[0;34m<\u001b[0m \u001b[0mbest_stress\u001b[0m\u001b[0;34m:\u001b[0m\u001b[0;34m\u001b[0m\u001b[0m\n\u001b[1;32m    256\u001b[0m                 \u001b[0mbest_stress\u001b[0m \u001b[0;34m=\u001b[0m \u001b[0mstress\u001b[0m\u001b[0;34m\u001b[0m\u001b[0m\n",
      "\u001b[0;32m/anaconda3/lib/python3.6/site-packages/sklearn/manifold/mds.py\u001b[0m in \u001b[0;36m_smacof_single\u001b[0;34m(dissimilarities, metric, n_components, init, max_iter, verbose, eps, random_state)\u001b[0m\n\u001b[1;32m     77\u001b[0m     \u001b[0;32mif\u001b[0m \u001b[0minit\u001b[0m \u001b[0;32mis\u001b[0m \u001b[0;32mNone\u001b[0m\u001b[0;34m:\u001b[0m\u001b[0;34m\u001b[0m\u001b[0m\n\u001b[1;32m     78\u001b[0m         \u001b[0;31m# Randomly choose initial configuration\u001b[0m\u001b[0;34m\u001b[0m\u001b[0;34m\u001b[0m\u001b[0m\n\u001b[0;32m---> 79\u001b[0;31m         \u001b[0mX\u001b[0m \u001b[0;34m=\u001b[0m \u001b[0mrandom_state\u001b[0m\u001b[0;34m.\u001b[0m\u001b[0mrand\u001b[0m\u001b[0;34m(\u001b[0m\u001b[0mn_samples\u001b[0m \u001b[0;34m*\u001b[0m \u001b[0mn_components\u001b[0m\u001b[0;34m)\u001b[0m\u001b[0;34m\u001b[0m\u001b[0m\n\u001b[0m\u001b[1;32m     80\u001b[0m         \u001b[0mX\u001b[0m \u001b[0;34m=\u001b[0m \u001b[0mX\u001b[0m\u001b[0;34m.\u001b[0m\u001b[0mreshape\u001b[0m\u001b[0;34m(\u001b[0m\u001b[0;34m(\u001b[0m\u001b[0mn_samples\u001b[0m\u001b[0;34m,\u001b[0m \u001b[0mn_components\u001b[0m\u001b[0;34m)\u001b[0m\u001b[0;34m)\u001b[0m\u001b[0;34m\u001b[0m\u001b[0m\n\u001b[1;32m     81\u001b[0m     \u001b[0;32melse\u001b[0m\u001b[0;34m:\u001b[0m\u001b[0;34m\u001b[0m\u001b[0m\n",
      "\u001b[0;32mmtrand.pyx\u001b[0m in \u001b[0;36mmtrand.RandomState.rand\u001b[0;34m()\u001b[0m\n",
      "\u001b[0;32mmtrand.pyx\u001b[0m in \u001b[0;36mmtrand.RandomState.random_sample\u001b[0;34m()\u001b[0m\n",
      "\u001b[0;32mmtrand.pyx\u001b[0m in \u001b[0;36mmtrand.cont0_array\u001b[0;34m()\u001b[0m\n",
      "\u001b[0;31mTypeError\u001b[0m: 'str' object cannot be interpreted as an integer"
     ]
    }
   ],
   "source": [
    "from sklearn.manifold import MDS\n",
    "pmn=pmn.as_matrix()\n",
    "MDS=MDS('precomputed')\n",
    "lower_naive=MDS.fit_transform(pmn)\n",
    "lower_df=pd.DataFrame({'x_naive':lower_naive[:,0],'y_naive':lower_naive[:,1],'President':list(Counter(addresses['president']).keys())})\n",
    "sns.lmplot(lower_df['x_naive'],lower_df['y_naive'],lower_df,hue=lower_df['President'],markers=lower_df['President'],palette='blue')\n",
    "# A simple MDS embedding plot:"
   ]
  },
  {
   "cell_type": "markdown",
   "metadata": {},
   "source": [
    "*** This graph is not good enough, we need to put add in legends and other information to make it look care and straightforward ***\t"
   ]
  },
  {
   "cell_type": "markdown",
   "metadata": {},
   "source": [
    "This will be more informative if we make a little utility function for the plots, that carries a legend, annotates each point with the president's initials, and colors them all:"
   ]
  },
  {
   "cell_type": "code",
   "execution_count": null,
   "metadata": {
    "collapsed": true
   },
   "outputs": [],
   "source": [
    "plt.scatter?"
   ]
  },
  {
   "cell_type": "code",
   "execution_count": null,
   "metadata": {
    "collapsed": true
   },
   "outputs": [],
   "source": [
    "def plot_embedding(data, title='MDS Embedding', savepath=None, palette='viridis', \n",
    "                   size=7, annotate='initials'):\n",
    "    \"\"\"Plot an MDS embedding dataframe for all presidents.\n",
    "    \n",
    "    Uses Seaborn's `lmplot` to create an x-y scatterplot of the data, encoding the \n",
    "    value of the `President` field into the hue (which can be mapped to any desired\n",
    "    color palette).\n",
    "    \n",
    "    Parameters\n",
    "    ----------\n",
    "    data : DataFrame\n",
    "        A DataFrame that must contain 3 columns labeled 'x', 'y' and 'President'.\n",
    "        \n",
    "    title : optional, string\n",
    "        Title for the plot\n",
    "        \n",
    "    savepath : optional, string\n",
    "        If given, a path to save the figure into using matplotlib's `savefig`.\n",
    "        \n",
    "    palette : optional, string\n",
    "        The name of a valid Seaborn palette for coloring the points.\n",
    "    \n",
    "    size : optional, float\n",
    "        Size of the plot in inches (single number, square plot)\n",
    "        \n",
    "    annotate: optional, 'initials', 'name' or False\n",
    "        If 'initials', annotate each point with the intials of each president,\n",
    "        if 'name', use their last name, and if False, do not annotate at all.\n",
    "        \n",
    "    Returns\n",
    "    -------\n",
    "    FacetGrid\n",
    "        The Seaborn FacetGrid object used to create the plot.\n",
    "    \"\"\"\n",
    "    # YOUR CODE HERE\n",
    "    f=sns.lmplot(data['x'],data['y'],data,hue=data['President'],markers=annotate,palette=palette)\n",
    "    f.set_title(title)\n",
    "    f.figsize=(size)\n",
    "    f.savefig(savepath)\n",
    "    return "
   ]
  },
  {
   "cell_type": "code",
   "execution_count": null,
   "metadata": {
    "collapsed": true
   },
   "outputs": [],
   "source": [
    "embed_peu=lower_df\n",
    "plot_embedding(embed_peu, 'Naive MDS - euclidean distance', 'fig/mds_naive.png', annotate='name');"
   ]
  },
  {
   "cell_type": "markdown",
   "metadata": {},
   "source": [
    "Now we use a distance metric defined on probability mass functions, the Jensen-Shannon Metric."
   ]
  },
  {
   "cell_type": "code",
   "execution_count": null,
   "metadata": {
    "collapsed": true
   },
   "outputs": [],
   "source": [
    "m,n=pmn.shape\n",
    "dist=np.zeros((m,n))\n",
    "for i in range(m):\n",
    "    for j in range(n):\n",
    "        dist[i,j]=JSdiv(value[i,:],value[j,:])\n",
    "lower=MDS.fit_transform(dist)\n",
    "edf2=pd.DataFrame({'x':lower[:,0] ,'y':lower[:,1],'President':key1})\n",
    "plot_embedding(edf2, 'MDS - Jensen-Shannon Distance', 'fig/mds_jsdiv.png', annotate='name');"
   ]
  },
  {
   "cell_type": "markdown",
   "metadata": {},
   "source": [
    "*** The purpose of multidimensional scaling (MDS) is to provide a visual representation of the pattern of proximities among a set of objects, in this case, the set is each Presidents. One of the things to look for in interpreting this MDS graph is the cluster. Clusters are groups of items that are closer to each other than to other items. In this graph, there seems to be two group of clusters of points. This means that within these two clusters, the Presidents speeches has similar characteristic ***"
   ]
  },
  {
   "cell_type": "markdown",
   "metadata": {
    "collapsed": true
   },
   "source": [
    "### By Speech\n",
    "First we normalize the term-document matrix"
   ]
  },
  {
   "cell_type": "markdown",
   "metadata": {},
   "source": [
    "We make a similar naive plot embedding using the $L^2$ distance."
   ]
  },
  {
   "cell_type": "code",
   "execution_count": null,
   "metadata": {
    "collapsed": true
   },
   "outputs": [],
   "source": [
    "pres_mat_n=pres_mat.iloc(:,:).values\n",
    "pres_mat_n=pres_mat_n/pres_mat_n.sum(0,keepdims=True)\n",
    "\n",
    "pres_mat_n.head()\n",
    "\n",
    "lower_naive=MDS.fit_transform(pres_mat_n)\n",
    "embed_df=pd.DataFrame({'x':lower_naive[:,0],'y':lower_naive[:,1],'President':list(Counter(addresses['president']).keys())})\n",
    "\n",
    "\n",
    "plot_embedding(embed_df, 'Naive MDS - euclidean distance, all speeches',\n",
    "               'fig/mds_naive_all.png', size=10);"
   ]
  },
  {
   "cell_type": "markdown",
   "metadata": {},
   "source": [
    "Now with the Jensen-Shannon metric"
   ]
  },
  {
   "cell_type": "code",
   "execution_count": null,
   "metadata": {
    "collapsed": true
   },
   "outputs": [],
   "source": [
    "m,n=pres_mat_n.shape\n",
    "dist_n=np.zeros((m,n))\n",
    "for i in range(m):\n",
    "    for j in range(n):\n",
    "        dist_n[i,j]=JSdiv(pres_mat_n[i,:],pres_mat_n[j,:])\n",
    "\n",
    "lower=MDS.fit_transform(dist_n)\n",
    "embed_df2=pd.DataFrame({'x':lower[:,0] ,'y':lower[:,1],'President':list(Counter(addresses['president']).keys())})\n",
    "plot_embedding(embed_df2, 'Naive MDS - Jensen-Shannon distance, all speeches', \n",
    "               'fig/mds_jdsiv_all.png', size=10);"
   ]
  },
  {
   "cell_type": "markdown",
   "metadata": {},
   "source": [
    "Store some final results. For native numpy arrays, we can use the convenient numpy `npz` container format, which behaves in practice similar to the Pandas HDF5 store and the Python Shelves:"
   ]
  },
  {
   "cell_type": "code",
   "execution_count": null,
   "metadata": {
    "collapsed": true
   },
   "outputs": [],
   "source": [
    "np.savez('results/npa4.npz', pmm=pmm)"
   ]
  }
 ],
 "metadata": {
  "kernelspec": {
   "display_name": "Python 3",
   "language": "python",
   "name": "python3"
  },
  "language_info": {
   "codemirror_mode": {
    "name": "ipython",
    "version": 3
   },
   "file_extension": ".py",
   "mimetype": "text/x-python",
   "name": "python",
   "nbconvert_exporter": "python",
   "pygments_lexer": "ipython3",
   "version": "3.6.1"
  }
 },
 "nbformat": 4,
 "nbformat_minor": 2
}
