{
 "cells": [
  {
   "cell_type": "markdown",
   "metadata": {},
   "source": [
    "# An analysis of the State of the Union speeches - Part 2"
   ]
  },
  {
   "cell_type": "code",
   "execution_count": 1,
   "metadata": {
    "collapsed": true
   },
   "outputs": [],
   "source": [
    "%matplotlib inline\n",
    "import matplotlib.pyplot as plt\n",
    "import numpy as np\n",
    "import pandas as pd\n",
    "import seaborn as sns\n",
    "\n",
    "import shelve\n",
    "\n",
    "plt.style.use('seaborn-dark')\n",
    "plt.rcParams['figure.figsize'] = (10, 6)"
   ]
  },
  {
   "cell_type": "markdown",
   "metadata": {},
   "source": [
    "Let's start by loading some of the data created in the previous part, so we can continue where we left off:"
   ]
  },
  {
   "cell_type": "code",
   "execution_count": 2,
   "metadata": {
    "collapsed": true
   },
   "outputs": [],
   "source": [
    "addresses = pd.read_hdf('results/df1.h5', 'addresses')\n",
    "with shelve.open('results/vars1') as db:\n",
    "    speeches = db['speeches']"
   ]
  },
  {
   "cell_type": "markdown",
   "metadata": {},
   "source": [
    "Let's double-check that we're getting the full set of speeches:"
   ]
  },
  {
   "cell_type": "code",
   "execution_count": 3,
   "metadata": {},
   "outputs": [
    {
     "name": "stdout",
     "output_type": "stream",
     "text": [
      "(227, 3)\n",
      "227\n"
     ]
    }
   ],
   "source": [
    "print(addresses.shape)\n",
    "print(len(speeches))"
   ]
  },
  {
   "cell_type": "markdown",
   "metadata": {},
   "source": [
    "## Basic text analysis\n",
    "\n",
    "Let's ask a few basic questions about this text, by populating our `addresses` dataframe with some extra information. As a reminder, so far we have:"
   ]
  },
  {
   "cell_type": "code",
   "execution_count": 4,
   "metadata": {},
   "outputs": [
    {
     "data": {
      "text/html": [
       "<div>\n",
       "<style scoped>\n",
       "    .dataframe tbody tr th:only-of-type {\n",
       "        vertical-align: middle;\n",
       "    }\n",
       "\n",
       "    .dataframe tbody tr th {\n",
       "        vertical-align: top;\n",
       "    }\n",
       "\n",
       "    .dataframe thead th {\n",
       "        text-align: right;\n",
       "    }\n",
       "</style>\n",
       "<table border=\"1\" class=\"dataframe\">\n",
       "  <thead>\n",
       "    <tr style=\"text-align: right;\">\n",
       "      <th></th>\n",
       "      <th>president</th>\n",
       "      <th>title</th>\n",
       "      <th>date</th>\n",
       "    </tr>\n",
       "  </thead>\n",
       "  <tbody>\n",
       "    <tr>\n",
       "      <th>0</th>\n",
       "      <td>George Washington</td>\n",
       "      <td>State of the Union Address</td>\n",
       "      <td>1790-01-08</td>\n",
       "    </tr>\n",
       "    <tr>\n",
       "      <th>1</th>\n",
       "      <td>George Washington</td>\n",
       "      <td>State of the Union Address</td>\n",
       "      <td>1790-12-08</td>\n",
       "    </tr>\n",
       "    <tr>\n",
       "      <th>2</th>\n",
       "      <td>George Washington</td>\n",
       "      <td>State of the Union Address</td>\n",
       "      <td>1791-10-25</td>\n",
       "    </tr>\n",
       "    <tr>\n",
       "      <th>3</th>\n",
       "      <td>George Washington</td>\n",
       "      <td>State of the Union Address</td>\n",
       "      <td>1792-11-06</td>\n",
       "    </tr>\n",
       "    <tr>\n",
       "      <th>4</th>\n",
       "      <td>George Washington</td>\n",
       "      <td>State of the Union Address</td>\n",
       "      <td>1793-12-03</td>\n",
       "    </tr>\n",
       "  </tbody>\n",
       "</table>\n",
       "</div>"
      ],
      "text/plain": [
       "             president                        title       date\n",
       "0    George Washington   State of the Union Address 1790-01-08\n",
       "1    George Washington   State of the Union Address 1790-12-08\n",
       "2    George Washington   State of the Union Address 1791-10-25\n",
       "3    George Washington   State of the Union Address 1792-11-06\n",
       "4    George Washington   State of the Union Address 1793-12-03"
      ]
     },
     "execution_count": 4,
     "metadata": {},
     "output_type": "execute_result"
    }
   ],
   "source": [
    "addresses.head()"
   ]
  },
  {
   "cell_type": "markdown",
   "metadata": {},
   "source": [
    "Now, let's add the following information to this DF:\n",
    "\n",
    "* `n_words`: number of words in the speech\n",
    "* `n_uwords`: number of *unique* words in the speech\n",
    "* `n_swords`: number of *unique, stemmed* words in the speech\n",
    "* `n_chars`: number of letters in the speech\n",
    "* `n_sent`: number of sentences in the speech\n",
    "\n",
    "For this level of complexity, it's probably best if we go with NLTK. Remember, that `speeches` is our list with all the speeches, indexed in the same way as the `addresses` dataframe:"
   ]
  },
  {
   "cell_type": "code",
   "execution_count": 5,
   "metadata": {
    "collapsed": true
   },
   "outputs": [],
   "source": [
    "import nltk\n",
    "from nltk.corpus import stopwords\n",
    "import string\n",
    "from nltk.stem import PorterStemmer\n",
    "def clean_word_tokenize(doc):\n",
    "    \"\"\"custom word toenizer which removes stop words and punctuation\n",
    "    \n",
    "    Parameters\n",
    "    ----------\n",
    "    doc : string\n",
    "        A document to be tokenized\n",
    "        \n",
    "    Returns\n",
    "    -------\n",
    "    tokens\n",
    "    \"\"\"\n",
    "    n_sent=[]\n",
    "    n_words_all=[]\n",
    "    n_words=[]\n",
    "    n_uwords=[]\n",
    "    n_swords=[]\n",
    "    n_chars=[]\n",
    "    stop=stopwords.words(\"english\") + list(string.punctuation)\n",
    "    stemmer=PorterStemmer()\n",
    "    #countLetters= charCounter(string.letters)\n",
    "    for i in doc:\n",
    "        n_sent=np.append(n_sent,len(nltk.sent_tokenize(i)))\n",
    "        n_words_all=np.append(n_words_all,len(nltk.word_tokenize(i)))\n",
    "        n_words_value=[word for word in nltk.word_tokenize(i) if word not in stop]\n",
    "        n_words=np.append(n_words,len(n_words_value))\n",
    "        n_uwords_value=list(set(n_words_value))\n",
    "        n_uwords=np.append(n_uwords,len(n_uwords_value))\n",
    "        n_swords_value=list(set([stemmer.stem(word) for word in n_words_value]))\n",
    "        n_swords=np.append(n_swords,len(n_swords_value))\n",
    "        n_chars_value=len(i)\n",
    "        n_chars=np.append(n_chars,n_chars_value)\n",
    "        columns=['n_sent','n_words_all','n_words','n_uwords','n_swords','n_chars']\n",
    "        df=pd.DataFrame({'n_sent':n_sent,'n_words_all':n_words_all,'n_words':n_words,'n_uwords':n_uwords,'n_swords':n_swords,'n_chars':n_chars},columns=columns)\n",
    "        \n",
    "    return df"
   ]
  },
  {
   "cell_type": "markdown",
   "metadata": {},
   "source": [
    "Now we compute these quantities for each speech, as well as saving the set of unique, stemmed words for each speech, which we'll need later to construct the complete term-document matrix across all speeches."
   ]
  },
  {
   "cell_type": "code",
   "execution_count": 6,
   "metadata": {},
   "outputs": [
    {
     "data": {
      "text/html": [
       "<div>\n",
       "<style scoped>\n",
       "    .dataframe tbody tr th:only-of-type {\n",
       "        vertical-align: middle;\n",
       "    }\n",
       "\n",
       "    .dataframe tbody tr th {\n",
       "        vertical-align: top;\n",
       "    }\n",
       "\n",
       "    .dataframe thead th {\n",
       "        text-align: right;\n",
       "    }\n",
       "</style>\n",
       "<table border=\"1\" class=\"dataframe\">\n",
       "  <thead>\n",
       "    <tr style=\"text-align: right;\">\n",
       "      <th></th>\n",
       "      <th>president</th>\n",
       "      <th>title</th>\n",
       "      <th>date</th>\n",
       "      <th>n_sent</th>\n",
       "      <th>n_words_all</th>\n",
       "      <th>n_words</th>\n",
       "      <th>n_uwords</th>\n",
       "      <th>n_swords</th>\n",
       "      <th>n_chars</th>\n",
       "    </tr>\n",
       "  </thead>\n",
       "  <tbody>\n",
       "    <tr>\n",
       "      <th>0</th>\n",
       "      <td>George Washington</td>\n",
       "      <td>State of the Union Address</td>\n",
       "      <td>1790-01-08</td>\n",
       "      <td>24.0</td>\n",
       "      <td>1178.0</td>\n",
       "      <td>538.0</td>\n",
       "      <td>398.0</td>\n",
       "      <td>356.0</td>\n",
       "      <td>6753.0</td>\n",
       "    </tr>\n",
       "    <tr>\n",
       "      <th>1</th>\n",
       "      <td>George Washington</td>\n",
       "      <td>State of the Union Address</td>\n",
       "      <td>1790-12-08</td>\n",
       "      <td>40.0</td>\n",
       "      <td>1515.0</td>\n",
       "      <td>683.0</td>\n",
       "      <td>516.0</td>\n",
       "      <td>463.0</td>\n",
       "      <td>8455.0</td>\n",
       "    </tr>\n",
       "    <tr>\n",
       "      <th>2</th>\n",
       "      <td>George Washington</td>\n",
       "      <td>State of the Union Address</td>\n",
       "      <td>1791-10-25</td>\n",
       "      <td>60.0</td>\n",
       "      <td>2487.0</td>\n",
       "      <td>1136.0</td>\n",
       "      <td>740.0</td>\n",
       "      <td>626.0</td>\n",
       "      <td>14203.0</td>\n",
       "    </tr>\n",
       "    <tr>\n",
       "      <th>3</th>\n",
       "      <td>George Washington</td>\n",
       "      <td>State of the Union Address</td>\n",
       "      <td>1792-11-06</td>\n",
       "      <td>61.0</td>\n",
       "      <td>2298.0</td>\n",
       "      <td>1042.0</td>\n",
       "      <td>693.0</td>\n",
       "      <td>580.0</td>\n",
       "      <td>12764.0</td>\n",
       "    </tr>\n",
       "    <tr>\n",
       "      <th>4</th>\n",
       "      <td>George Washington</td>\n",
       "      <td>State of the Union Address</td>\n",
       "      <td>1793-12-03</td>\n",
       "      <td>56.0</td>\n",
       "      <td>2132.0</td>\n",
       "      <td>972.0</td>\n",
       "      <td>720.0</td>\n",
       "      <td>652.0</td>\n",
       "      <td>11696.0</td>\n",
       "    </tr>\n",
       "  </tbody>\n",
       "</table>\n",
       "</div>"
      ],
      "text/plain": [
       "             president                        title       date  n_sent  \\\n",
       "0    George Washington   State of the Union Address 1790-01-08    24.0   \n",
       "1    George Washington   State of the Union Address 1790-12-08    40.0   \n",
       "2    George Washington   State of the Union Address 1791-10-25    60.0   \n",
       "3    George Washington   State of the Union Address 1792-11-06    61.0   \n",
       "4    George Washington   State of the Union Address 1793-12-03    56.0   \n",
       "\n",
       "   n_words_all  n_words  n_uwords  n_swords  n_chars  \n",
       "0       1178.0    538.0     398.0     356.0   6753.0  \n",
       "1       1515.0    683.0     516.0     463.0   8455.0  \n",
       "2       2487.0   1136.0     740.0     626.0  14203.0  \n",
       "3       2298.0   1042.0     693.0     580.0  12764.0  \n",
       "4       2132.0    972.0     720.0     652.0  11696.0  "
      ]
     },
     "execution_count": 6,
     "metadata": {},
     "output_type": "execute_result"
    }
   ],
   "source": [
    "results=clean_word_tokenize(speeches)\n",
    "addresses=addresses.join(results)\n",
    "addresses.head()"
   ]
  },
  {
   "cell_type": "markdown",
   "metadata": {},
   "source": [
    "Let's look at a summary of these "
   ]
  },
  {
   "cell_type": "code",
   "execution_count": 7,
   "metadata": {
    "scrolled": true
   },
   "outputs": [
    {
     "data": {
      "text/html": [
       "<div>\n",
       "<style scoped>\n",
       "    .dataframe tbody tr th:only-of-type {\n",
       "        vertical-align: middle;\n",
       "    }\n",
       "\n",
       "    .dataframe tbody tr th {\n",
       "        vertical-align: top;\n",
       "    }\n",
       "\n",
       "    .dataframe thead th {\n",
       "        text-align: right;\n",
       "    }\n",
       "</style>\n",
       "<table border=\"1\" class=\"dataframe\">\n",
       "  <thead>\n",
       "    <tr style=\"text-align: right;\">\n",
       "      <th></th>\n",
       "      <th>n_sent</th>\n",
       "      <th>n_words_all</th>\n",
       "      <th>n_words</th>\n",
       "      <th>n_uwords</th>\n",
       "      <th>n_swords</th>\n",
       "      <th>n_chars</th>\n",
       "    </tr>\n",
       "  </thead>\n",
       "  <tbody>\n",
       "    <tr>\n",
       "      <th>count</th>\n",
       "      <td>227.00</td>\n",
       "      <td>227.00</td>\n",
       "      <td>227.00</td>\n",
       "      <td>227.00</td>\n",
       "      <td>227.00</td>\n",
       "      <td>227.00</td>\n",
       "    </tr>\n",
       "    <tr>\n",
       "      <th>mean</th>\n",
       "      <td>266.15</td>\n",
       "      <td>8304.19</td>\n",
       "      <td>4047.24</td>\n",
       "      <td>1699.61</td>\n",
       "      <td>1291.18</td>\n",
       "      <td>45473.15</td>\n",
       "    </tr>\n",
       "    <tr>\n",
       "      <th>std</th>\n",
       "      <td>178.80</td>\n",
       "      <td>5871.69</td>\n",
       "      <td>2900.51</td>\n",
       "      <td>795.83</td>\n",
       "      <td>508.56</td>\n",
       "      <td>33020.36</td>\n",
       "    </tr>\n",
       "    <tr>\n",
       "      <th>min</th>\n",
       "      <td>24.00</td>\n",
       "      <td>1059.00</td>\n",
       "      <td>538.00</td>\n",
       "      <td>398.00</td>\n",
       "      <td>356.00</td>\n",
       "      <td>5649.00</td>\n",
       "    </tr>\n",
       "    <tr>\n",
       "      <th>25%</th>\n",
       "      <td>165.00</td>\n",
       "      <td>4396.00</td>\n",
       "      <td>2190.50</td>\n",
       "      <td>1111.00</td>\n",
       "      <td>915.50</td>\n",
       "      <td>23394.50</td>\n",
       "    </tr>\n",
       "    <tr>\n",
       "      <th>50%</th>\n",
       "      <td>240.00</td>\n",
       "      <td>6655.00</td>\n",
       "      <td>3388.00</td>\n",
       "      <td>1590.00</td>\n",
       "      <td>1247.00</td>\n",
       "      <td>36677.00</td>\n",
       "    </tr>\n",
       "    <tr>\n",
       "      <th>75%</th>\n",
       "      <td>347.50</td>\n",
       "      <td>10055.00</td>\n",
       "      <td>4801.50</td>\n",
       "      <td>2090.00</td>\n",
       "      <td>1552.00</td>\n",
       "      <td>55211.00</td>\n",
       "    </tr>\n",
       "    <tr>\n",
       "      <th>max</th>\n",
       "      <td>1343.00</td>\n",
       "      <td>36974.00</td>\n",
       "      <td>21041.00</td>\n",
       "      <td>4933.00</td>\n",
       "      <td>3017.00</td>\n",
       "      <td>218009.00</td>\n",
       "    </tr>\n",
       "  </tbody>\n",
       "</table>\n",
       "</div>"
      ],
      "text/plain": [
       "        n_sent  n_words_all   n_words  n_uwords  n_swords    n_chars\n",
       "count   227.00       227.00    227.00    227.00    227.00     227.00\n",
       "mean    266.15      8304.19   4047.24   1699.61   1291.18   45473.15\n",
       "std     178.80      5871.69   2900.51    795.83    508.56   33020.36\n",
       "min      24.00      1059.00    538.00    398.00    356.00    5649.00\n",
       "25%     165.00      4396.00   2190.50   1111.00    915.50   23394.50\n",
       "50%     240.00      6655.00   3388.00   1590.00   1247.00   36677.00\n",
       "75%     347.50     10055.00   4801.50   2090.00   1552.00   55211.00\n",
       "max    1343.00     36974.00  21041.00   4933.00   3017.00  218009.00"
      ]
     },
     "execution_count": 7,
     "metadata": {},
     "output_type": "execute_result"
    }
   ],
   "source": [
    "pd.options.display.precision = 2\n",
    "addresses.describe()"
   ]
  },
  {
   "cell_type": "markdown",
   "metadata": {
    "collapsed": true
   },
   "source": [
    "## Visualizing characteristics of the speeches\n",
    "\n",
    "Now we explore some of the relationships between the speeches, their authors, and time.\n",
    "\n",
    "How properties of the speeches change over time."
   ]
  },
  {
   "cell_type": "code",
   "execution_count": 8,
   "metadata": {},
   "outputs": [
    {
     "data": {
      "text/plain": [
       "([<matplotlib.axis.XTick at 0x11470c7b8>,\n",
       "  <matplotlib.axis.XTick at 0x114735c50>,\n",
       "  <matplotlib.axis.XTick at 0x11474afd0>,\n",
       "  <matplotlib.axis.XTick at 0x1a1a3cdef0>,\n",
       "  <matplotlib.axis.XTick at 0x1a1a3d49b0>,\n",
       "  <matplotlib.axis.XTick at 0x1a1a3d9470>],\n",
       " <a list of 6 Text xticklabel objects>)"
      ]
     },
     "execution_count": 8,
     "metadata": {},
     "output_type": "execute_result"
    },
    {
     "data": {
      "image/png": "[encoded data removed]",
      "text/plain": [
       "<matplotlib.figure.Figure at 0x1146da780>"
      ]
     },
     "metadata": {},
     "output_type": "display_data"
    }
   ],
   "source": [
    "# Use Seaborn to provide a plot such as this, and discuss:\n",
    "import math\n",
    "from math import log\n",
    "log_n_sent=[]\n",
    "for i in addresses['n_sent']:\n",
    "    log_n_sent=np.append(log_n_sent,math.log(i,math.e))\n",
    "    \n",
    "log_n_words=[]\n",
    "for i in addresses['n_words']:\n",
    "    log_n_words=np.append(log_n_words,math.log(i,math.e))\n",
    "    \n",
    "#size_per_word=addresses['n_words']\n",
    "#for i in addresses['n_words']:\n",
    "    #for j in i:\n",
    "        #size_per_word=np.append(size_per_word,len(j))\n",
    "\n",
    "mean_word_length=addresses['n_chars']/addresses['n_words']\n",
    "mean_sent_length=addresses['n_chars']/addresses['n_sent']\n",
    "frac_stop_word=(addresses['n_words_all']-addresses['n_words'])/addresses['n_words']\n",
    "        \n",
    "f1,axarr = plt.subplots(3,2,sharex=True)\n",
    "Date=addresses['date'].dt.year\n",
    "axarr[0][0].plot(Date,log_n_sent)\n",
    "axarr[0][1].plot(Date,log_n_words)\n",
    "#axarr[1][0].plot(Date,size_per_word)\n",
    "axarr[1][1].plot(Date,mean_sent_length)\n",
    "axarr[2][0].plot(Date,mean_word_length)\n",
    "axarr[2][1].plot(Date,frac_stop_word)\n",
    "plt.xticks(np.arange(1808,2009,40))\n",
    "\n",
    "#plt.savefig(\"fig/speech_changes.png\")"
   ]
  },
  {
   "cell_type": "markdown",
   "metadata": {},
   "source": [
    "Now for the distributions by president"
   ]
  },
  {
   "cell_type": "code",
   "execution_count": 9,
   "metadata": {},
   "outputs": [
    {
     "ename": "SyntaxError",
     "evalue": "invalid syntax (<ipython-input-9-15b89c7358f2>, line 4)",
     "output_type": "error",
     "traceback": [
      "\u001b[0;36m  File \u001b[0;32m\"<ipython-input-9-15b89c7358f2>\"\u001b[0;36m, line \u001b[0;32m4\u001b[0m\n\u001b[0;31m    data1=\u001b[0m\n\u001b[0m          ^\u001b[0m\n\u001b[0;31mSyntaxError\u001b[0m\u001b[0;31m:\u001b[0m invalid syntax\n"
     ]
    }
   ],
   "source": [
    "# YOUR CODE HERE\n",
    "f2,axarr = plt.subplots(3,2,sharex=True)\n",
    "president=addresses['president']\n",
    "data1=\n",
    "axarr[0][0].violinplot(data=log_n_sent)\n",
    "axarr[0][1].violinplot(x=president,data=log_n_sent)\n",
    "#axarr[1][0].plot(president,size_per_word)\n",
    "axarr[1][1].violinplot(x=president,y=mean_sent_length)\n",
    "axarr[2][0].violinplot(x=president,y=mean_word_length)\n",
    "axarr[2][1].violinplot(x=president,y=frac_stop_word)\n",
    "#plt.savefig(\"fig/speech_characteristics.png\");"
   ]
  },
  {
   "cell_type": "markdown",
   "metadata": {},
   "source": [
    "## Intermediate results storage\n",
    "\n",
    "Since this may have taken a while, we now serialize the results we have for further use. Note that we don't overwrite our original dataframe file, so we can load both (even though in this notebook we reused the name `addresses`):"
   ]
  },
  {
   "cell_type": "code",
   "execution_count": 13,
   "metadata": {
    "collapsed": true
   },
   "outputs": [],
   "source": [
    "stop=stopwords.words(\"english\") + list(string.punctuation)\n",
    "speech_words=[]\n",
    "speeches_cleaned=[]\n",
    "stemmer=PorterStemmer()\n",
    "for i in np.arange(len(speeches)):\n",
    "    a=[word for word in nltk.word_tokenize(speeches[i]) if word not in stop]\n",
    "    speech_words.append(a)\n",
    "    speeches_cleaned.append(set([stemmer.stem(word) for word in a]))         "
   ]
  },
  {
   "cell_type": "code",
   "execution_count": 15,
   "metadata": {
    "collapsed": true
   },
   "outputs": [],
   "source": [
    "addresses.to_hdf('results/df2.h5', 'addresses')\n",
    "\n",
    "with shelve.open('results/vars2') as db:\n",
    "    db['speech_words'] = speech_words\n",
    "    db['speeches_cleaned'] = speeches_cleaned"
   ]
  },
  {
   "cell_type": "code",
   "execution_count": null,
   "metadata": {
    "collapsed": true
   },
   "outputs": [],
   "source": []
  }
 ],
 "metadata": {
  "kernelspec": {
   "display_name": "Python 3",
   "language": "python",
   "name": "python3"
  },
  "language_info": {
   "codemirror_mode": {
    "name": "ipython",
    "version": 3
   },
   "file_extension": ".py",
   "mimetype": "text/x-python",
   "name": "python",
   "nbconvert_exporter": "python",
   "pygments_lexer": "ipython3",
   "version": "3.6.2"
  }
 },
 "nbformat": 4,
 "nbformat_minor": 2
}
